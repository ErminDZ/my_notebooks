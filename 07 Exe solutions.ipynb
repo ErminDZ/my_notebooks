{
 "cells": [
  {
   "cell_type": "markdown",
   "id": "afcb1c4f-cc78-4ac7-92a0-42fa1bdfaa72",
   "metadata": {
    "tags": []
   },
   "source": [
    "## 01 Exercise: Writing a Simple Web Crawler\n",
    "\n",
    "1. Write a simple web scraper that can capture all images in a document (like: https://www.cphbusiness.dk/). \n",
    "2. Write to a .md file in a format so all images are shown when markdown is pasted and executed in a cell\n",
    "3. Extend the web scraper to find all links (`<a>` elements) in the document.\n",
    "4. If you have time, let the crawler find all links in the linked documents as well (so we get one more level of the hypertext graph). Use threads if helpfull.\n",
    "\n",
    "\n",
    "In case a page returns a status code, which is not `200` we just disregard this page. See https://en.wikipedia.org/wiki/List_of_HTTP_status_codes for more detailes on the various HTTP status codes."
   ]
  },
  {
   "cell_type": "code",
   "execution_count": null,
   "id": "a044ad6f-f689-4fc5-867d-c6de9f492665",
   "metadata": {},
   "outputs": [],
   "source": [
    "def scrape_links(from_url, for_depth, all_links={}):\n",
    "    # TODO: Implement code for websraper\n",
    "    # return dict(key=url, value=list of outgoing urls)\n",
    "    pass\n",
    "\n",
    "\n",
    "start_url = 'https://www.version2.dk/artikel/google-deepmind-vi-oeger-sikkerheden-mod-misbrug-sundhedsdata-1074452'\n",
    "\n",
    "link_dict = scrape_links(from_url=start_url, for_depth=2)\n",
    "scrape_links()"
   ]
  },
  {
   "cell_type": "markdown",
   "id": "f988b7ac-2fb8-40b4-bea0-638c8cf70551",
   "metadata": {
    "jp-MarkdownHeadingCollapsed": true,
    "tags": []
   },
   "source": [
    "## 01 Exercise with findall()\n",
    "In the following text find all the family names of everyone with first name Peter:\n",
    "\n",
    "\"Peter Hansen was meeting up with Jacob Fransen for a quick lunch, but first he had to go by Peter Beier to pick up some chocolate for his wife. Meanwhile Pastor Peter Jensen was going to church to give his sermon for the same 3 people in his parish. Those were Peter Kold and Henrik Halberg plus a third person who had recently moved here from Norway called Peter Harold\"."
   ]
  },
  {
   "cell_type": "code",
   "execution_count": 325,
   "id": "63474126-3099-4f2b-a12d-f8f5c3bfca3d",
   "metadata": {
    "collapsed": true,
    "jupyter": {
     "outputs_hidden": true
    },
    "tags": []
   },
   "outputs": [
    {
     "name": "stdout",
     "output_type": "stream",
     "text": [
      "All Peters: ['Peter Hansen', 'Peter Beier', 'Peter Jensen', 'Peter Kold', 'Peter Harold']\n"
     ]
    }
   ],
   "source": [
    "import re\n",
    "\n",
    "first_name_Peter = re.compile(r'Peter \\w+')\n",
    "\n",
    "all_peters = \"\"\"\n",
    "Peter Hansen was meeting up with Jacob Fransen for a quick lunch, but first he had to go by Peter Beier to pick up some chocolate for his wife. Meanwhile Pastor Peter Jensen was going to church to give his sermon for the same 3 people in his parish.Those were Peter Kold and Henrik Halberg plus a third person who had recently moved here from Norway called Peter Harold\n",
    "\"\"\"\n",
    "\n",
    "names = first_name_Peter.findall(all_peters)\n",
    "print('All Peters: {}'.format(names))"
   ]
  },
  {
   "cell_type": "markdown",
   "id": "51d908b7-8de8-4c7a-9a8c-c555bbd56097",
   "metadata": {
    "tags": []
   },
   "source": [
    "## 02 exercise\n",
    "\n",
    "We will play with the addresses from data/addresses.txt and the following regex patterns\n",
    "\n",
    "Write a regular expression, that you can use to create 5 lists with:\n",
    "\n",
    "  * all names in the list above\n",
    "  * all telephone numbers \n",
    "  * all zip codes\n",
    "  * all city names with corresponding zip code\n",
    "  * all street names\n",
    "  \n",
    "\n",
    "\n",
    "|No|**Symbol**|**Effect**|\n",
    "|--|--|--|\n",
    "|1|.|dot matches any character except newline|\n",
    "|2|\\w|matches any word character i.e alphanumeric (letters, digits) and underscore ( _ )|\n",
    "|3|\\W|matches non word characters|\n",
    "|4|\\d|matches a single digit|\n",
    "|5|\\D|matches a single character that is not a digit|\n",
    "|6|\\s|matches any white-spaces character like \\t and \\n|\n",
    "|7|\\S|matches single non white space character|\n",
    "|8|[abc]|matches single character in the set i.e either match a, b or c|\n",
    "|9|[^abc]|match a single character other than a, b and c|\n",
    "|10|[a-z]|match a single character in the range a to z.|\n",
    "|11|[a-zA-ZæøåÆØÅ]|match a single character in the range a-å or A-Å|\n",
    "|12|[0-9]|match a single character in the range 0-9|\n",
    "|13|^|match start at beginning of the string|\n",
    "|14|$|match start at end of the string|\n",
    "|15|+|matches one or more of the preceding character (greedy match).|\n",
    "|16|*|matches zero or more of the preceding character (greedy match).|\n",
    "|17|?|matches zero or one of the preceding character.|\n",
    "|18|*?|non-greedy matches zero or more|\n",
    "|19|??|non-greedy zero or one|\n",
    "|20|+?|non-greedy one or more|\n",
    "|21|\\||or|\n",
    "|22|`([\\w ]+)*`|one ore more words|"
   ]
  },
  {
   "cell_type": "code",
   "execution_count": 94,
   "id": "c1f6b267-5007-4062-a5a0-aee16a91c02f",
   "metadata": {
    "tags": []
   },
   "outputs": [
    {
     "name": "stdout",
     "output_type": "stream",
     "text": [
      "A Henning Gamborg Møller\n",
      "A K Møller\n",
      "A Møller\n",
      "A Møller\n",
      "A Møller\n",
      "A Møller\n",
      "A Møller\n",
      "A Møller Andersen\n",
      "A Møller Jensen\n",
      "A Møller Sørensen\n",
      "A Porse Møller\n",
      "Aage Beck Møller\n",
      "Aage Bojsen-Møller\n",
      "Aage Christian Møller Andersen\n",
      "Aage Hansen Møller\n",
      "Aage Jan Møller\n",
      "Aage Karl Møller\n",
      "Aage Majbom Møller\n",
      "Aage Martin Møller\n",
      "Aage Møller\n",
      "Aage Møller\n",
      "Aage Møller\n",
      "Aage Møller\n",
      "Aage Møller\n",
      "Aage Møller\n"
     ]
    }
   ],
   "source": [
    "import re\n",
    "with open('./my_data/addresses.txt') as f:\n",
    "    addresses = f.read()\n",
    "    \n",
    "    all_names = re.compile(r'^A (\\w+).+ | ^Aage (\\w+).+')\n",
    "    for line in addresses.split('\\n'):\n",
    "        if all_names.match(line):\n",
    "            print(all_names.match(line).group())    "
   ]
  },
  {
   "cell_type": "code",
   "execution_count": 107,
   "id": "342fc448-4c67-45d6-9d42-fa9b1edc3142",
   "metadata": {
    "collapsed": true,
    "jupyter": {
     "outputs_hidden": true
    },
    "tags": []
   },
   "outputs": [
    {
     "name": "stdout",
     "output_type": "stream",
     "text": [
      "61 69 03 76\n",
      "75 50 75 14\n",
      "86 45 44 36\n",
      "76 42 00 81\n",
      "86 13 22 99\n",
      "97 95 20 01\n",
      "74 74 36 62\n",
      "45 80 47 14\n",
      "60 94 39 04\n",
      "35 38 97 81\n",
      "86 94 66 60\n",
      "20 44 00 35\n",
      "55 81 46 76\n",
      "20 83 70 65\n",
      "62 24 10 81\n",
      "20 83 88 62\n",
      "51 15 15 66\n",
      "28 59 06 93\n",
      "21 48 73 79\n",
      "64 82 11 54\n",
      "40 10 80 76\n",
      "21 79 64 18\n",
      "23 66 57 00\n",
      "60 45 79 69\n",
      "29 68 03 25\n"
     ]
    }
   ],
   "source": [
    "import re\n",
    "with open('./my_data/addresses.txt') as f:\n",
    "    addresses = f.read()\n",
    "    \n",
    "    all_telephone_numbers= re.compile(r'\\d{2} \\d{2} \\d{2} \\d{2}')\n",
    "    for line in addresses.split('\\n'):\n",
    "        if all_telephone_numbers.match(line):\n",
    "            print(all_telephone_numbers.match(line).group())  "
   ]
  },
  {
   "cell_type": "code",
   "execution_count": 114,
   "id": "94624cbe-63f3-42ab-9378-c7a89b0545c5",
   "metadata": {
    "collapsed": true,
    "jupyter": {
     "outputs_hidden": true
    },
    "tags": []
   },
   "outputs": [
    {
     "name": "stdout",
     "output_type": "stream",
     "text": [
      "6760 \n",
      "3460 \n",
      "8920 \n",
      "7000 \n",
      "8000 \n",
      "7760 \n",
      "6240 \n",
      "2840 \n",
      "8210 \n",
      "2100 \n",
      "8464 \n",
      "6630 \n",
      "4780 \n",
      "9240 \n",
      "5762 \n",
      "2650 \n",
      "3300 \n",
      "5550 \n",
      "6051 \n",
      "5450 \n",
      "8586 \n",
      "7900 \n",
      "5200 \n",
      "9700 \n",
      "8370 \n"
     ]
    }
   ],
   "source": [
    "import re\n",
    "with open('./my_data/addresses.txt') as f:\n",
    "    addresses = f.read()\n",
    "    \n",
    "    all_zip_code= re.compile(r'\\d{4} ')\n",
    "    for line in addresses.split('\\n'):\n",
    "        if all_zip_code.match(line):\n",
    "            print(all_zip_code.match(line).group())  "
   ]
  },
  {
   "cell_type": "code",
   "execution_count": 131,
   "id": "53fdf622-1c26-43b0-87f0-6a1d55bcb0ef",
   "metadata": {
    "collapsed": true,
    "jupyter": {
     "outputs_hidden": true
    },
    "tags": []
   },
   "outputs": [
    {
     "name": "stdout",
     "output_type": "stream",
     "text": [
      "6760 Ribe\n",
      "3460 Birkerød\n",
      "8920 Randers NV\n",
      "7000 Fredericia\n",
      "8000 Aarhus C\n",
      "7760 Hurup Thy\n",
      "6240 Løgumkloster\n",
      "2840 Holte\n",
      "8210 Aarhus V\n",
      "2100 København Ø\n",
      "8464 Galten\n",
      "6630 Rødding\n",
      "4780 Stege\n",
      "9240 Nibe\n",
      "5762 Vester Skerninge\n",
      "2650 Hvidovre\n",
      "3300 Frederiksværk\n",
      "5550 Langeskov\n",
      "6051 Almind\n",
      "5450 Otterup\n",
      "8586 Ørum Djurs\n",
      "7900 Nykøbing M\n",
      "5200 Odense V\n",
      "9700 Brønderslev\n",
      "8370 Hadsten\n"
     ]
    }
   ],
   "source": [
    "import re\n",
    "with open('./my_data/addresses.txt') as f:\n",
    "    addresses = f.read()\n",
    "    \n",
    "    all_city_names_withzipcode= re.compile(r'\\d{4} ([\\w ]+)*')\n",
    "    for line in addresses.split('\\n'):\n",
    "        if all_city_names_withzipcode.match(line):\n",
    "            print(all_city_names_withzipcode.match(line).group())  "
   ]
  },
  {
   "cell_type": "code",
   "execution_count": 301,
   "id": "643a65e0-f163-4df9-a957-5c9bd865f856",
   "metadata": {
    "collapsed": true,
    "jupyter": {
     "outputs_hidden": true
    },
    "tags": []
   },
   "outputs": [
    {
     "name": "stdout",
     "output_type": "stream",
     "text": [
      "A Henning Gamborg Møller\n",
      "Klostergade 28\n",
      "A K Møller\n",
      "Bregnerødvej 75, st. 0002\n",
      "A Møller\n",
      "Violvej 3\n",
      "Ø. Bjerregrav\n",
      "A Møller\n",
      "Hyrdevej 16A\n",
      "A Møller\n",
      "Brammersgade 45\n",
      "A Møller\n",
      "Dalstræde 11\n",
      "Heltborg\n",
      "A Møller\n",
      "Jørgensgaardvej 13\n",
      "A Møller Andersen\n",
      "Gammel Holtevej 60\n",
      "Gl Holte\n",
      "A Møller Jensen\n",
      "Viborgvej 115, 1. TV\n",
      "Hasle\n",
      "A Møller Sørensen\n",
      "Korsørgade 4, 6. tv\n",
      "A Porse Møller\n",
      "Røddikvej 60\n",
      "Aage Beck Møller\n",
      "Rødding Nørregade 8\n",
      "Aage Bojsen-Møller\n",
      "Noret 3\n",
      "Aage Christian Møller Andersen\n",
      "Jordemodervej 7\n",
      "Bislev\n",
      "Aage Hansen Møller\n",
      "Filippavej 38\n",
      "Hundstrup\n",
      "Aage Jan Møller\n",
      "Næsborgvej 50, st. th\n",
      "Aage Karl Møller\n",
      "Dyrevænget 21\n",
      "Tibirke Sand\n",
      "Aage Majbom Møller\n",
      "Pilelunden 23\n",
      "Aage Martin Møller\n",
      "Almind Østergade 15A, 1. tv\n",
      "Aage Møller\n",
      "Ørritslev Gade 7\n",
      "Ørritslev\n",
      "Aage Møller\n",
      "Knudsvej 1\n",
      "Aage Møller\n",
      "Fruevej 4\n",
      "Aage Møller\n",
      "Dybdevej 30\n",
      "Bolbro\n",
      "Aage Møller\n",
      "Hammelmosevej 12\n",
      "Aage Møller\n",
      "Birkevej 6\n"
     ]
    }
   ],
   "source": [
    "import re\n",
    "with open('./my_data/addresses.txt') as f:\n",
    "    addresses = f.read()\n",
    "    \n",
    "    \n",
    "    all_street_names= re.compile(r'^([a-zA-ZæøåÆØÅ].+)|(\\D) \\d.+')\n",
    "    #all_street_names= re.compile(r'^(\\w+) ([\\w ]+)*$')\n",
    "    #all_street_names= re.compile(r'^(\\w+) \\d{2}$')\n",
    "    for line in addresses.split('\\n'):\n",
    "        if all_street_names.match(line):\n",
    "            print(all_street_names.match(line).group())  "
   ]
  },
  {
   "cell_type": "markdown",
   "id": "18c9b8f2-8c49-469c-afd6-090d45ea12ef",
   "metadata": {
    "jp-MarkdownHeadingCollapsed": true,
    "tags": []
   },
   "source": [
    "## Class exercise\n",
    "Find a web site to interact with and fill out a form to get some information back.  \n",
    "Examples could be https://www.jobindex.dk/,    \n",
    "https://google.com or   \n",
    "https://www.ikea.com/dk/da/"
   ]
  },
  {
   "cell_type": "code",
   "execution_count": null,
   "id": "79f61496-46ca-4286-bc9a-c516bb32d228",
   "metadata": {},
   "outputs": [],
   "source": []
  },
  {
   "cell_type": "code",
   "execution_count": null,
   "id": "29df98f3-daf6-4cb5-8fec-e14a276db19e",
   "metadata": {},
   "outputs": [],
   "source": []
  },
  {
   "cell_type": "code",
   "execution_count": null,
   "id": "a2d7eff5-44d6-43ae-aa7b-b9611d761042",
   "metadata": {},
   "outputs": [],
   "source": []
  },
  {
   "cell_type": "code",
   "execution_count": null,
   "id": "ece2cc20-e531-4e0c-a1eb-a1401127bf8a",
   "metadata": {},
   "outputs": [],
   "source": []
  }
 ],
 "metadata": {
  "kernelspec": {
   "display_name": "Python 3 (ipykernel)",
   "language": "python",
   "name": "python3"
  },
  "language_info": {
   "codemirror_mode": {
    "name": "ipython",
    "version": 3
   },
   "file_extension": ".py",
   "mimetype": "text/x-python",
   "name": "python",
   "nbconvert_exporter": "python",
   "pygments_lexer": "ipython3",
   "version": "3.10.6"
  }
 },
 "nbformat": 4,
 "nbformat_minor": 5
}
