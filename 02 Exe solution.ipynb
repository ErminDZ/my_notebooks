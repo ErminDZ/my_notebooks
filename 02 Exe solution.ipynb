{
 "cells": [
  {
   "cell_type": "markdown",
   "id": "06ed896c-97da-494c-b000-82b8d1a1510b",
   "metadata": {
    "tags": []
   },
   "source": [
    "## 02 Python functions, modules etc"
   ]
  },
  {
   "cell_type": "markdown",
   "id": "4f63e359-89f5-41c4-bd7b-68846fa38584",
   "metadata": {
    "jp-MarkdownHeadingCollapsed": true,
    "tags": []
   },
   "source": [
    "### https://www.youtube.com/watch?v=dY_KewfiiiM - Functions (19:23)\n",
    "### https://www.youtube.com/watch?v=VPIWWOSUc7A - Modules (27:00)\n",
    "### https://www.youtube.com/watch?v=c4jmQhv_f8I - Command line arguments (10:00)\n",
    "### https://www.youtube.com/watch?v=xgjweBjiIFw - Working with files (16:00)"
   ]
  },
  {
   "cell_type": "markdown",
   "id": "aaedd324-8e06-4834-a753-d42eff32d66a",
   "metadata": {
    "tags": []
   },
   "source": [
    "## Class Exercise\n",
    "### 1. Write a function that iterates through a list and prints each value without using a loop. That is, write a recursive function to print the values of a list."
   ]
  },
  {
   "cell_type": "code",
   "execution_count": 2,
   "id": "6a7fe600-f7e0-4e80-9a70-7b4afa996e1c",
   "metadata": {
    "tags": []
   },
   "outputs": [
    {
     "name": "stdout",
     "output_type": "stream",
     "text": [
      "Unexpected exception formatting exception. Falling back to standard exception\n"
     ]
    },
    {
     "name": "stderr",
     "output_type": "stream",
     "text": [
      "Traceback (most recent call last):\n",
      "  File \"/opt/conda/lib/python3.10/site-packages/IPython/core/interactiveshell.py\", line 3398, in run_code\n",
      "    exec(code_obj, self.user_global_ns, self.user_ns)\n",
      "  File \"/tmp/ipykernel_1886/1725630751.py\", line 2, in <cell line: 2>\n",
      "    from my_modules.classExe.py import classExe\n",
      "  File \"/home/jovyan/my_notebooks/my_modules/classExe.py\", line 7, in <module>\n",
      "    recursiv_print(names)\n",
      "  File \"/home/jovyan/my_notebooks/my_modules/classExe.py\", line 3, in recursiv_print\n",
      "    if names < 1:\n",
      "TypeError: '<' not supported between instances of 'list' and 'int'\n",
      "\n",
      "During handling of the above exception, another exception occurred:\n",
      "\n",
      "Traceback (most recent call last):\n",
      "  File \"/opt/conda/lib/python3.10/site-packages/IPython/core/interactiveshell.py\", line 1993, in showtraceback\n",
      "    stb = self.InteractiveTB.structured_traceback(\n",
      "  File \"/opt/conda/lib/python3.10/site-packages/IPython/core/ultratb.py\", line 1118, in structured_traceback\n",
      "    return FormattedTB.structured_traceback(\n",
      "  File \"/opt/conda/lib/python3.10/site-packages/IPython/core/ultratb.py\", line 1012, in structured_traceback\n",
      "    return VerboseTB.structured_traceback(\n",
      "  File \"/opt/conda/lib/python3.10/site-packages/IPython/core/ultratb.py\", line 865, in structured_traceback\n",
      "    formatted_exception = self.format_exception_as_a_whole(etype, evalue, etb, number_of_lines_of_context,\n",
      "  File \"/opt/conda/lib/python3.10/site-packages/IPython/core/ultratb.py\", line 818, in format_exception_as_a_whole\n",
      "    frames.append(self.format_record(r))\n",
      "  File \"/opt/conda/lib/python3.10/site-packages/IPython/core/ultratb.py\", line 736, in format_record\n",
      "    result += ''.join(_format_traceback_lines(frame_info.lines, Colors, self.has_colors, lvals))\n",
      "  File \"/opt/conda/lib/python3.10/site-packages/stack_data/utils.py\", line 145, in cached_property_wrapper\n",
      "    value = obj.__dict__[self.func.__name__] = self.func(obj)\n",
      "  File \"/opt/conda/lib/python3.10/site-packages/stack_data/core.py\", line 699, in lines\n",
      "    pieces = self.included_pieces\n",
      "  File \"/opt/conda/lib/python3.10/site-packages/stack_data/utils.py\", line 145, in cached_property_wrapper\n",
      "    value = obj.__dict__[self.func.__name__] = self.func(obj)\n",
      "  File \"/opt/conda/lib/python3.10/site-packages/stack_data/core.py\", line 647, in included_pieces\n",
      "    pos = scope_pieces.index(self.executing_piece)\n",
      "  File \"/opt/conda/lib/python3.10/site-packages/stack_data/utils.py\", line 145, in cached_property_wrapper\n",
      "    value = obj.__dict__[self.func.__name__] = self.func(obj)\n",
      "  File \"/opt/conda/lib/python3.10/site-packages/stack_data/core.py\", line 626, in executing_piece\n",
      "    return only(\n",
      "  File \"/opt/conda/lib/python3.10/site-packages/executing/executing.py\", line 164, in only\n",
      "    raise NotOneValueFound('Expected one value, found 0')\n",
      "executing.executing.NotOneValueFound: Expected one value, found 0\n"
     ]
    }
   ],
   "source": [
    "from my_modules.classExe.py import classExe\n",
    "recursiv_print(names)"
   ]
  },
  {
   "cell_type": "markdown",
   "id": "925f2c87-0865-439c-aafa-d6611d9fc6b4",
   "metadata": {},
   "source": [
    "### 2. Write a function that can take any number of arguments and return all arguments concatenated or summed depending on the data type"
   ]
  },
  {
   "cell_type": "code",
   "execution_count": null,
   "id": "e0b1b1ea-2d0b-4b5a-aea4-395f313c487a",
   "metadata": {},
   "outputs": [],
   "source": []
  },
  {
   "cell_type": "markdown",
   "id": "724947c6-3111-4159-826b-39b1d952750e",
   "metadata": {
    "tags": []
   },
   "source": [
    "## Exercise 1\n",
    "1. Create a python file with 3 functions:\n",
    "  1. `def print_file_content(file)` that can print content of a csv file to the console\n",
    "  2. `def write_list_to_file(output_file, lst)` that can take a list or tuple of strings and write each element to a new line in file\n",
    "    1. rewrite the function so that it gets an arbitrary number of strings instead of a list\n",
    "  3. `def read_csv(input_file)` that take a csv file and read each row into a list. Print the list.\n",
    "2. Add a functionality so that the file can be called from cli with 2 arguments:\n",
    "  1. path to csv file\n",
    "  2. an argument `--file file_name` that if given will write the content to file_name or otherwise will print it to the console.\n",
    "3. Add a --help cli argument to describe how the module is used  "
   ]
  },
  {
   "cell_type": "code",
   "execution_count": 4,
   "id": "8b6949ae-3f56-4d6b-be8c-7e16724d9cc7",
   "metadata": {
    "tags": []
   },
   "outputs": [
    {
     "name": "stdout",
     "output_type": "stream",
     "text": [
      "Rank\tPlayer\tGoals Scored\tClub\tYear\n",
      "1\tMohamed Salah\t32\tLiverpool\t2017-2018\n",
      "2\tLuis Suarez\t31\tLiverpool\t2013-2014\n",
      "3\tCristiano Ronaldo\t31\tManchester United\t2007-2008\n",
      "4\tAlan Shearer\t31\tBlackburn Rovers\t1995-1996\n",
      "5\tHarry Kane\t30\tTottenham Hotspur\t2017-2018\n",
      "6\tRobin Van Persie\t30\tArsenal\t2011-2012\n",
      "7\tThierry Henry\t30\tArsenal\t2003-2004\n",
      "8\tKevin Phillips\t30\tSunderland\t1999-2000\n",
      "9\tHarry Kane\t29\tTottenham Hotspur\t2016-2017\n",
      "10\tDidier Drogba\t29\tChelsea\t2009-2010\n"
     ]
    }
   ],
   "source": [
    "from my_modules.Exe1_week2 import print_file_content\n",
    "\n",
    "print_file_content(\"something.csv\")"
   ]
  },
  {
   "cell_type": "code",
   "execution_count": 1,
   "id": "3742b38b-4e5b-45c7-b88a-5c09e701efc1",
   "metadata": {},
   "outputs": [],
   "source": [
    "from my_modules.Exe1_week2 import write_list_to_file\n",
    "\n",
    "write_list_to_file(\"output.csv\", \"w\")"
   ]
  },
  {
   "cell_type": "code",
   "execution_count": 4,
   "id": "7c4f9069-49a6-4931-99ca-802ca073d658",
   "metadata": {
    "tags": []
   },
   "outputs": [
    {
     "name": "stdout",
     "output_type": "stream",
     "text": [
      "2015,1,0,5100,\"614,5\"\n",
      "2015,1,0,5104,\"2,3\"\n",
      "2015,1,0,5106,1\n",
      "2015,1,0,5110,1\n"
     ]
    }
   ],
   "source": [
    "!cat output.csv"
   ]
  },
  {
   "cell_type": "code",
   "execution_count": null,
   "id": "39239449-bc64-4561-859c-63a5e27cfd62",
   "metadata": {
    "tags": []
   },
   "outputs": [
    {
     "ename": "FileNotFoundError",
     "evalue": "[Errno 2] No such file or directory: 'input.csv'",
     "output_type": "error",
     "traceback": [
      "\u001b[0;31m---------------------------------------------------------------------------\u001b[0m",
      "\u001b[0;31mFileNotFoundError\u001b[0m                         Traceback (most recent call last)",
      "Input \u001b[0;32mIn [5]\u001b[0m, in \u001b[0;36m<cell line: 3>\u001b[0;34m()\u001b[0m\n\u001b[1;32m      1\u001b[0m \u001b[38;5;28;01mfrom\u001b[39;00m \u001b[38;5;21;01mmy_modules\u001b[39;00m\u001b[38;5;21;01m.\u001b[39;00m\u001b[38;5;21;01mExe1_week2\u001b[39;00m \u001b[38;5;28;01mimport\u001b[39;00m read_csv\n\u001b[0;32m----> 3\u001b[0m \u001b[43mread_csv\u001b[49m\u001b[43m(\u001b[49m\u001b[38;5;124;43m\"\u001b[39;49m\u001b[38;5;124;43mData/input.csv\u001b[39;49m\u001b[38;5;124;43m\"\u001b[39;49m\u001b[43m)\u001b[49m\n",
      "File \u001b[0;32m~/my_notebooks/my_modules/Exe1_week2.py:34\u001b[0m, in \u001b[0;36mread_csv\u001b[0;34m(input_file)\u001b[0m\n\u001b[1;32m     31\u001b[0m \u001b[38;5;28;01mdef\u001b[39;00m \u001b[38;5;21mread_csv\u001b[39m(input_file):\n\u001b[1;32m     32\u001b[0m     \u001b[38;5;28;01mimport\u001b[39;00m \u001b[38;5;21;01mcsv\u001b[39;00m\n\u001b[0;32m---> 34\u001b[0m     \u001b[38;5;28;01mwith\u001b[39;00m \u001b[38;5;28;43mopen\u001b[39;49m\u001b[43m(\u001b[49m\u001b[38;5;124;43m'\u001b[39;49m\u001b[38;5;124;43minput.csv\u001b[39;49m\u001b[38;5;124;43m'\u001b[39;49m\u001b[43m,\u001b[49m\u001b[43m \u001b[49m\u001b[43mnewline\u001b[49m\u001b[38;5;241;43m=\u001b[39;49m\u001b[38;5;124;43m'\u001b[39;49m\u001b[38;5;124;43m'\u001b[39;49m\u001b[43m)\u001b[49m \u001b[38;5;28;01mas\u001b[39;00m f:\n\u001b[1;32m     35\u001b[0m         reader \u001b[38;5;241m=\u001b[39m csv\u001b[38;5;241m.\u001b[39mreader(f)\n\u001b[1;32m     36\u001b[0m         data \u001b[38;5;241m=\u001b[39m \u001b[38;5;28mlist\u001b[39m(reader)\n",
      "\u001b[0;31mFileNotFoundError\u001b[0m: [Errno 2] No such file or directory: 'input.csv'"
     ]
    }
   ],
   "source": [
    "from my_modules.Exe1_week2 import read_csv\n",
    "\n",
    "read_csv(\"input.csv\")"
   ]
  },
  {
   "cell_type": "markdown",
   "id": "26d0e48c-a5c5-4a5a-b586-3631cdfd2b01",
   "metadata": {},
   "source": [
    "## Exercise 2\n",
    "Create a module called utils.py with the following 5 functions:\n",
    "\n",
    "```python\n",
    "def get_file_names(folderpath,out=output.txt):\n",
    "    \"\"\" takes a path to a folder and writes all filenames in the folder to a specified output file\"\"\"\n",
    "\n",
    "def get_all_file_names(folderpath,out=output.txt):\n",
    "    \"\"\"takes a path to a folder and write all filenames recursively (files of all sub folders to)\"\"\"\n",
    "\n",
    "def print_line_one(file_names):\n",
    "    \"\"\"takes a list of filenames and print the first line of each\"\"\"\n",
    "\n",
    "def print_emails(file_names):\n",
    "    \"\"\"takes a list of filenames and print each line that contains an email (just look for @)\"\"\"\n",
    "\n",
    "def write_headlines(md_files, out=output.txt):\n",
    "    \"\"\"takes a list of md files and writes all headlines (lines starting with #) to a file\"\"\"\n",
    "\n",
    "```\n",
    "Make sure your module can be called both from cli and imported to another module\n",
    "Create a new module that imports utils.py and test each function."
   ]
  },
  {
   "cell_type": "code",
   "execution_count": null,
   "id": "848d018b-e948-4cca-a7c5-6500cbc5e9d1",
   "metadata": {},
   "outputs": [],
   "source": []
  }
 ],
 "metadata": {
  "kernelspec": {
   "display_name": "Python 3 (ipykernel)",
   "language": "python",
   "name": "python3"
  },
  "language_info": {
   "codemirror_mode": {
    "name": "ipython",
    "version": 3
   },
   "file_extension": ".py",
   "mimetype": "text/x-python",
   "name": "python",
   "nbconvert_exporter": "python",
   "pygments_lexer": "ipython3",
   "version": "3.10.6"
  }
 },
 "nbformat": 4,
 "nbformat_minor": 5
}
