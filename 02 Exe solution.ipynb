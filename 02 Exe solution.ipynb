{
 "cells": [
  {
   "cell_type": "markdown",
   "id": "06ed896c-97da-494c-b000-82b8d1a1510b",
   "metadata": {
    "jp-MarkdownHeadingCollapsed": true,
    "tags": []
   },
   "source": [
    "## 02 Python functions, modules etc"
   ]
  },
  {
   "cell_type": "markdown",
   "id": "4f63e359-89f5-41c4-bd7b-68846fa38584",
   "metadata": {
    "jp-MarkdownHeadingCollapsed": true,
    "tags": []
   },
   "source": [
    "### https://www.youtube.com/watch?v=dY_KewfiiiM - Functions (19:23)\n",
    "### https://www.youtube.com/watch?v=VPIWWOSUc7A - Modules (27:00)\n",
    "### https://www.youtube.com/watch?v=c4jmQhv_f8I - Command line arguments (10:00)\n",
    "### https://www.youtube.com/watch?v=xgjweBjiIFw - Working with files (16:00)"
   ]
  },
  {
   "cell_type": "markdown",
   "id": "aaedd324-8e06-4834-a753-d42eff32d66a",
   "metadata": {
    "jp-MarkdownHeadingCollapsed": true,
    "tags": []
   },
   "source": [
    "## Class Exercise\n",
    "### 1. Write a function that iterates through a list and prints each value without using a loop. That is, write a recursive function to print the values of a list."
   ]
  },
  {
   "cell_type": "code",
   "execution_count": 4,
   "id": "6a7fe600-f7e0-4e80-9a70-7b4afa996e1c",
   "metadata": {
    "tags": []
   },
   "outputs": [
    {
     "ename": "ModuleNotFoundError",
     "evalue": "No module named 'my_modules.classExe'",
     "output_type": "error",
     "traceback": [
      "\u001b[0;31m---------------------------------------------------------------------------\u001b[0m",
      "\u001b[0;31mModuleNotFoundError\u001b[0m                       Traceback (most recent call last)",
      "Input \u001b[0;32mIn [4]\u001b[0m, in \u001b[0;36m<cell line: 1>\u001b[0;34m()\u001b[0m\n\u001b[0;32m----> 1\u001b[0m \u001b[38;5;28;01mfrom\u001b[39;00m \u001b[38;5;21;01mmy_modules\u001b[39;00m\u001b[38;5;21;01m.\u001b[39;00m\u001b[38;5;21;01mclassExe\u001b[39;00m\u001b[38;5;21;01m.\u001b[39;00m\u001b[38;5;21;01mpy\u001b[39;00m \u001b[38;5;28;01mimport\u001b[39;00m classExe\n\u001b[1;32m      2\u001b[0m recursiv_print(names)\n",
      "\u001b[0;31mModuleNotFoundError\u001b[0m: No module named 'my_modules.classExe'"
     ]
    }
   ],
   "source": [
    "from my_modules.classExe.py import classExe\n",
    "recursiv_print(names)"
   ]
  },
  {
   "cell_type": "markdown",
   "id": "925f2c87-0865-439c-aafa-d6611d9fc6b4",
   "metadata": {},
   "source": [
    "### 2. Write a function that can take any number of arguments and return all arguments concatenated or summed depending on the data type"
   ]
  },
  {
   "cell_type": "code",
   "execution_count": null,
   "id": "e0b1b1ea-2d0b-4b5a-aea4-395f313c487a",
   "metadata": {},
   "outputs": [],
   "source": []
  },
  {
   "cell_type": "markdown",
   "id": "724947c6-3111-4159-826b-39b1d952750e",
   "metadata": {
    "tags": []
   },
   "source": [
    "## Exercise 1\n",
    "1. Create a python file with 3 functions:\n",
    "  1. `def print_file_content(file)` that can print content of a csv file to the console\n",
    "  2. `def write_list_to_file(output_file, lst)` that can take a list or tuple of strings and write each element to a new line in file\n",
    "    1. rewrite the function so that it gets an arbitrary number of strings instead of a list\n",
    "  3. `def read_csv(input_file)` that take a csv file and read each row into a list. Print the list.\n",
    "2. Add a functionality so that the file can be called from cli with 2 arguments:\n",
    "  1. path to csv file\n",
    "  2. an argument `--file file_name` that if given will write the content to file_name or otherwise will print it to the console.\n",
    "3. Add a --help cli argument to describe how the module is used  "
   ]
  },
  {
   "cell_type": "code",
   "execution_count": 2,
   "id": "8b6949ae-3f56-4d6b-be8c-7e16724d9cc7",
   "metadata": {
    "tags": []
   },
   "outputs": [
    {
     "name": "stdout",
     "output_type": "stream",
     "text": [
      "Rank\tPlayer\tGoals Scored\tClub\tYear\n",
      "1\tMohamed Salah\t32\tLiverpool\t2017-2018\n",
      "2\tLuis Suarez\t31\tLiverpool\t2013-2014\n",
      "3\tCristiano Ronaldo\t31\tManchester United\t2007-2008\n",
      "4\tAlan Shearer\t31\tBlackburn Rovers\t1995-1996\n",
      "5\tHarry Kane\t30\tTottenham Hotspur\t2017-2018\n",
      "6\tRobin Van Persie\t30\tArsenal\t2011-2012\n",
      "7\tThierry Henry\t30\tArsenal\t2003-2004\n",
      "8\tKevin Phillips\t30\tSunderland\t1999-2000\n",
      "9\tHarry Kane\t29\tTottenham Hotspur\t2016-2017\n",
      "10\tDidier Drogba\t29\tChelsea\t2009-2010\n"
     ]
    }
   ],
   "source": [
    "from my_modules.Exe1_week2 import print_file_content\n",
    "\n",
    "print_file_content(\"something.csv\")"
   ]
  },
  {
   "cell_type": "code",
   "execution_count": 1,
   "id": "3742b38b-4e5b-45c7-b88a-5c09e701efc1",
   "metadata": {},
   "outputs": [],
   "source": [
    "from my_modules.Exe1_week2 import write_list_to_file\n",
    "\n",
    "write_list_to_file(\"output.csv\", \"w\")"
   ]
  },
  {
   "cell_type": "code",
   "execution_count": 4,
   "id": "7c4f9069-49a6-4931-99ca-802ca073d658",
   "metadata": {
    "tags": []
   },
   "outputs": [
    {
     "name": "stdout",
     "output_type": "stream",
     "text": [
      "2015,1,0,5100,\"614,5\"\n",
      "2015,1,0,5104,\"2,3\"\n",
      "2015,1,0,5106,1\n",
      "2015,1,0,5110,1\n"
     ]
    }
   ],
   "source": [
    "!cat output.csv"
   ]
  },
  {
   "cell_type": "code",
   "execution_count": 3,
   "id": "39239449-bc64-4561-859c-63a5e27cfd62",
   "metadata": {
    "tags": []
   },
   "outputs": [
    {
     "name": "stdout",
     "output_type": "stream",
     "text": [
      "[['Rank\\tPlayer\\tGoals Scored\\tClub\\tYear'], ['1\\tMohamed Salah\\t32\\tLiverpool\\t2017-2018'], ['2\\tLuis Suarez\\t31\\tLiverpool\\t2013-2014'], ['3\\tCristiano Ronaldo\\t31\\tManchester United\\t2007-2008'], ['4\\tAlan Shearer\\t31\\tBlackburn Rovers\\t1995-1996'], ['5\\tHarry Kane\\t30\\tTottenham Hotspur\\t2017-2018'], ['6\\tRobin Van Persie\\t30\\tArsenal\\t2011-2012'], ['7\\tThierry Henry\\t30\\tArsenal\\t2003-2004'], ['8\\tKevin Phillips\\t30\\tSunderland\\t1999-2000'], ['9\\tHarry Kane\\t29\\tTottenham Hotspur\\t2016-2017'], ['10\\tDidier Drogba\\t29\\tChelsea\\t2009-2010']]\n"
     ]
    }
   ],
   "source": [
    "from my_modules.Exe1_week2 import read_csv\n",
    "\n",
    "read_csv(\"input.csv\")"
   ]
  },
  {
   "cell_type": "code",
   "execution_count": null,
   "id": "e2e93f71",
   "metadata": {},
   "outputs": [],
   "source": []
  },
  {
   "cell_type": "markdown",
   "id": "26d0e48c-a5c5-4a5a-b586-3631cdfd2b01",
   "metadata": {},
   "source": [
    "## Exercise 2\n",
    "Create a module called utils.py with the following 5 functions:\n",
    "\n",
    "```python\n",
    "def get_file_names(folderpath,out=output.txt):\n",
    "    \"\"\" takes a path to a folder and writes all filenames in the folder to a specified output file\"\"\"\n",
    "\n",
    "def get_all_file_names(folderpath,out=output.txt):\n",
    "    \"\"\"takes a path to a folder and write all filenames recursively (files of all sub folders to)\"\"\"\n",
    "\n",
    "def print_line_one(file_names):\n",
    "    \"\"\"takes a list of filenames and print the first line of each\"\"\"\n",
    "\n",
    "def print_emails(file_names):\n",
    "    \"\"\"takes a list of filenames and print each line that contains an email (just look for @)\"\"\"\n",
    "\n",
    "def write_headlines(md_files, out=output.txt):\n",
    "    \"\"\"takes a list of md files and writes all headlines (lines starting with #) to a file\"\"\"\n",
    "\n",
    "```\n",
    "Make sure your module can be called both from cli and imported to another module\n",
    "Create a new module that imports utils.py and test each function."
   ]
  },
  {
   "cell_type": "code",
   "execution_count": null,
   "id": "848d018b-e948-4cca-a7c5-6500cbc5e9d1",
   "metadata": {},
   "outputs": [],
   "source": []
  }
 ],
 "metadata": {
  "kernelspec": {
   "display_name": "Python 3 (ipykernel)",
   "language": "python",
   "name": "python3"
  },
  "language_info": {
   "codemirror_mode": {
    "name": "ipython",
    "version": 3
   },
   "file_extension": ".py",
   "mimetype": "text/x-python",
   "name": "python",
   "nbconvert_exporter": "python",
   "pygments_lexer": "ipython3",
   "version": "3.10.6"
  }
 },
 "nbformat": 4,
 "nbformat_minor": 5
}
