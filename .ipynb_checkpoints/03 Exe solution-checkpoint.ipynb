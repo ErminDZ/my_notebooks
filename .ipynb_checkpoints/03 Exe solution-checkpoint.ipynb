{
 "cells": [
  {
   "cell_type": "markdown",
   "id": "385571bd-42f6-4012-bec8-90d80bf54ed0",
   "metadata": {},
   "source": [
    "## Ex 1 Classes\n",
    "1. Create 3 classes: Student, DataSheet and Course\n",
    "2. A student has a data_sheet and a data_sheet has multiple courses in particular order\n",
    "3. Each course has name, classroom, teacher, ETCS and optional grade if course is taken.\n",
    "4. In Student update `__init__()` so that a Student can be initiated with name, gender, data_sheet and image_url\n",
    "5. In DataSheet create a method to get_grades_as_list()\n",
    "6. In student create a method: get_avg_grade()\n",
    "7. Create a function that can generate n number of students with random: name, gender, courses (from a fixed list of course names), grades, img_url\n",
    "   1. Let the function write the result to a csv file with format stud_name, course_name, teacher, ,gender, ects, classroom, grade, img_url\n",
    "7. Read student data into a list of Students from a csv file (Each student can appear on multiple lines): \n",
    "   1. loop through the list and print each student with name, img_url and avg_grade.\n",
    "   2. sort the list by avg_grade\n",
    "   3. create a bar chart with student_name on x and avg_grade on y-axis\n",
    "8. Make a method on Student class that can show progression of the study in % (add up ECTS from all passed courses divided by total of 150 total points (equivalent to 5 semesters))\n",
    "9. Show a bar chart of distribution of study progression on x-axis and number of students in each category on y-axis. (e.g. make 10 categories from 0-100%)"
   ]
  },
  {
   "cell_type": "code",
   "execution_count": 3,
   "id": "f58b9e35-9b57-46fd-b43f-8dab7d256352",
   "metadata": {},
   "outputs": [
    {
     "ename": "IndentationError",
     "evalue": "expected an indented block after function definition on line 9 (2901153615.py, line 11)",
     "output_type": "error",
     "traceback": [
      "\u001b[0;36m  Input \u001b[0;32mIn [3]\u001b[0;36m\u001b[0m\n\u001b[0;31m    def random_students():\u001b[0m\n\u001b[0m    ^\u001b[0m\n\u001b[0;31mIndentationError\u001b[0m\u001b[0;31m:\u001b[0m expected an indented block after function definition on line 9\n"
     ]
    }
   ],
   "source": [
    "import random \n",
    "class Student():\n",
    "    def __init__(self,name,gender,data_sheet=[],image_url):\n",
    "        self.name = name\n",
    "        self.gender = gender\n",
    "        self.data_sheet = data_sheet\n",
    "        self.image_url = image_url\n",
    "        \n",
    "    def get_avg_grade():\n",
    "    \n",
    "    def random_students(Student):\n",
    "        \n",
    "        \n",
    "  "
   ]
  },
  {
   "cell_type": "code",
   "execution_count": null,
   "id": "70c84037-c3e6-4681-8f5c-941b29997398",
   "metadata": {},
   "outputs": [],
   "source": [
    "class DataSheet()\n",
    "def __init__(self)\n",
    "\n",
    "def get_grades_as_list()"
   ]
  },
  {
   "cell_type": "code",
   "execution_count": null,
   "id": "f5e15708-8982-4b88-9ab4-2a7cbaf607c4",
   "metadata": {},
   "outputs": [],
   "source": [
    "class Course()\n",
    "def __init__(self,name,classroom,teacher,ETCS,grade)\n",
    "self.name = name\n",
    "self.classroom = classroom\n",
    "self.teacher = teacher\n",
    "self.ETCS = ETCS\n",
    "self.grade = grade"
   ]
  }
 ],
 "metadata": {
  "kernelspec": {
   "display_name": "Python 3 (ipykernel)",
   "language": "python",
   "name": "python3"
  },
  "language_info": {
   "codemirror_mode": {
    "name": "ipython",
    "version": 3
   },
   "file_extension": ".py",
   "mimetype": "text/x-python",
   "name": "python",
   "nbconvert_exporter": "python",
   "pygments_lexer": "ipython3",
   "version": "3.10.6"
  }
 },
 "nbformat": 4,
 "nbformat_minor": 5
}
