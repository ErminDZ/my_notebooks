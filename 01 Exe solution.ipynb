{
 "cells": [
  {
   "cell_type": "markdown",
   "id": "678d45d6-c715-49e5-b805-18b5fac7716e",
   "metadata": {
    "jp-MarkdownHeadingCollapsed": true,
    "tags": []
   },
   "source": [
    "### Iterate a list of names to return a list of the names starting with H"
   ]
  },
  {
   "cell_type": "code",
   "execution_count": 14,
   "id": "dc3945ae-79f7-44af-9529-4d41397922f8",
   "metadata": {},
   "outputs": [
    {
     "name": "stdout",
     "output_type": "stream",
     "text": [
      "['Bjørne', 'Bo', 'Jens', 'Peter', 'Hans', 'Hanne']\n",
      "['Hans', 'Hanne']\n"
     ]
    }
   ],
   "source": [
    "my_name_list = list ([\"Bjørne\",\"Bo\",\"Jens\",\"Peter\",\"Hans\",\"Hanne\"])\n",
    "print(my_name_list)\n",
    "\n",
    "check = 'H'\n",
    "\n",
    "result = [idx for idx in my_name_list if idx[0].lower() == check.lower()]\n",
    "print(result)"
   ]
  },
  {
   "cell_type": "markdown",
   "id": "574499eb-5247-4f97-bd5e-8a617dcdca1e",
   "metadata": {
    "jp-MarkdownHeadingCollapsed": true,
    "tags": []
   },
   "source": [
    "### In one line create a list of the numbers 1-100 to the power of 3"
   ]
  },
  {
   "cell_type": "code",
   "execution_count": 1,
   "id": "6a49f866-0edb-4d9f-95b2-68e1d558694b",
   "metadata": {},
   "outputs": [
    {
     "name": "stdout",
     "output_type": "stream",
     "text": [
      "[1, 2, 3, 4, 5, 6, 7, 8, 9, 10, 11, 12, 13, 14, 15, 16, 17, 18, 19, 20, 21, 22, 23, 24, 25, 26, 27, 28, 29, 30, 31, 32, 33, 34, 35, 36, 37, 38, 39, 40, 41, 42, 43, 44, 45, 46, 47, 48, 49, 50, 51, 52, 53, 54, 55, 56, 57, 58, 59, 60, 61, 62, 63, 64, 65, 66, 67, 68, 69, 70, 71, 72, 73, 74, 75, 76, 77, 78, 79, 80, 81, 82, 83, 84, 85, 86, 87, 88, 89, 90, 91, 92, 93, 94, 95, 96, 97, 98, 99, 100]\n"
     ]
    }
   ],
   "source": [
    "my_number_list = list(range(1,101))\n",
    "print(my_number_list)"
   ]
  },
  {
   "cell_type": "code",
   "execution_count": 2,
   "id": "95811555-46b3-4fad-9b88-b7710cd54693",
   "metadata": {},
   "outputs": [
    {
     "name": "stdout",
     "output_type": "stream",
     "text": [
      "[1, 8, 27, 64, 125, 216, 343, 512, 729, 1000, 1331, 1728, 2197, 2744, 3375, 4096, 4913, 5832, 6859, 8000, 9261, 10648, 12167, 13824, 15625, 17576, 19683, 21952, 24389, 27000, 29791, 32768, 35937, 39304, 42875, 46656, 50653, 54872, 59319, 64000, 68921, 74088, 79507, 85184, 91125, 97336, 103823, 110592, 117649, 125000, 132651, 140608, 148877, 157464, 166375, 175616, 185193, 195112, 205379, 216000, 226981, 238328, 250047, 262144, 274625, 287496, 300763, 314432, 328509, 343000, 357911, 373248, 389017, 405224, 421875, 438976, 456533, 474552, 493039, 512000, 531441, 551368, 571787, 592704, 614125, 636056, 658503, 681472, 704969, 729000, 753571, 778688, 804357, 830584, 857375, 884736, 912673, 941192, 970299, 1000000]\n"
     ]
    }
   ],
   "source": [
    "my_comp = [element ** 3 for element in my_number_list]\n",
    "print(my_comp)"
   ]
  },
  {
   "cell_type": "markdown",
   "id": "9126f692-3728-4ca8-a93b-9b62daa7fcaa",
   "metadata": {
    "jp-MarkdownHeadingCollapsed": true,
    "tags": []
   },
   "source": [
    "### Iterate a list of names to create a list of tuples where the tuples first value is the length of the name and the second is the name"
   ]
  },
  {
   "cell_type": "code",
   "execution_count": 29,
   "id": "9992c00b-8ff5-4dab-8d18-add64d744fb2",
   "metadata": {},
   "outputs": [
    {
     "name": "stdout",
     "output_type": "stream",
     "text": [
      "[(5, 'Peter', 2, 'Bo')]\n"
     ]
    },
    {
     "name": "stdin",
     "output_type": "stream",
     "text": [
      "Write a name hej\n",
      "Write a name igen\n"
     ]
    },
    {
     "name": "stdout",
     "output_type": "stream",
     "text": [
      "[(3, 'hej', 4, 'igen')]\n"
     ]
    }
   ],
   "source": [
    "my_tuple_list = [(len(\"Peter\"),\"Peter\",len(\"Bo\"),\"Bo\")]\n",
    "print(my_tuple_list)\n",
    "\n",
    "inpu1 = input(\"Write a name\")\n",
    "inpu2 = input(\"Write a name\")\n",
    "\n",
    "my_tuple_list1 = [(len(inpu1),inpu1,len(inpu2),inpu2)]\n",
    "print(my_tuple_list1)\n"
   ]
  },
  {
   "cell_type": "markdown",
   "id": "5319f9a9-52e7-4d26-952b-2e247d8db2dd",
   "metadata": {
    "jp-MarkdownHeadingCollapsed": true,
    "tags": []
   },
   "source": [
    "### Iterate over each character in a string and get only those that are nummeric"
   ]
  },
  {
   "cell_type": "code",
   "execution_count": 28,
   "id": "2fb98823-4b85-402a-b77c-935e3e5e375c",
   "metadata": {},
   "outputs": [
    {
     "name": "stdout",
     "output_type": "stream",
     "text": [
      "Find numbers from string:  463643433\n"
     ]
    }
   ],
   "source": [
    "new_string = \"hgign4636gd43nsng433\"\n",
    "\n",
    "emp_str = \"\"\n",
    "for m in new_string:\n",
    "    if m.isdigit():\n",
    "        emp_str = emp_str + m\n",
    "print(\"Find numbers from string: \",emp_str)"
   ]
  },
  {
   "cell_type": "markdown",
   "id": "f5b59660-e864-4866-80bf-2d8e80476864",
   "metadata": {},
   "source": [
    "### Using only a list comprehension wrapped in set() get all possible combinations from throwing 2 dice (hint use 2 for loops in a single list comprehension). Result should look like: [2,3,4,5,6,7,8,...] or a more complex/accurate solution: [(1,1),(1,2)...] in a way that (1,2) is equal to (2,1)."
   ]
  },
  {
   "cell_type": "code",
   "execution_count": null,
   "id": "93f59928-c934-4a64-9694-5dca05c97e6d",
   "metadata": {},
   "outputs": [],
   "source": []
  }
 ],
 "metadata": {
  "kernelspec": {
   "display_name": "Python 3 (ipykernel)",
   "language": "python",
   "name": "python3"
  },
  "language_info": {
   "codemirror_mode": {
    "name": "ipython",
    "version": 3
   },
   "file_extension": ".py",
   "mimetype": "text/x-python",
   "name": "python",
   "nbconvert_exporter": "python",
   "pygments_lexer": "ipython3",
   "version": "3.10.5"
  }
 },
 "nbformat": 4,
 "nbformat_minor": 5
}
