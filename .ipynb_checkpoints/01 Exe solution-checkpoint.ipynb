{
 "cells": [
  {
   "cell_type": "markdown",
   "id": "27b91d7d-6a9c-4761-80e5-d628c3a701d9",
   "metadata": {
    "tags": []
   },
   "source": [
    "# 01 Python language\n",
    "### https://www.youtube.com/watch?v=U9cycDWNwG0 - Python language features and sequence types (17:22 min)\n",
    "### https://www.youtube.com/watch?v=011WyBBXdMs - Set and dicts (7:27 min)"
   ]
  },
  {
   "cell_type": "markdown",
   "id": "678d45d6-c715-49e5-b805-18b5fac7716e",
   "metadata": {
    "tags": []
   },
   "source": [
    "### Iterate a list of names to return a list of the names starting with H"
   ]
  },
  {
   "cell_type": "code",
   "execution_count": 2,
   "id": "dc3945ae-79f7-44af-9529-4d41397922f8",
   "metadata": {},
   "outputs": [
    {
     "name": "stdout",
     "output_type": "stream",
     "text": [
      "['Bjørne', 'Bo', 'Jens', 'Peter', 'Hans', 'Hanne']\n",
      "['Hans', 'Hanne']\n"
     ]
    }
   ],
   "source": [
    "my_name_list = list ([\"Bjørne\",\"Bo\",\"Jens\",\"Peter\",\"Hans\",\"Hanne\"])\n",
    "print(my_name_list)\n",
    "\n",
    "check = 'H'\n",
    "\n",
    "result = [idx for idx in my_name_list if idx[0].lower() == check.lower()]\n",
    "print(result)"
   ]
  },
  {
   "cell_type": "markdown",
   "id": "574499eb-5247-4f97-bd5e-8a617dcdca1e",
   "metadata": {
    "tags": []
   },
   "source": [
    "### In one line create a list of the numbers 1-100 to the power of 3"
   ]
  },
  {
   "cell_type": "code",
   "execution_count": 3,
   "id": "6a49f866-0edb-4d9f-95b2-68e1d558694b",
   "metadata": {},
   "outputs": [
    {
     "name": "stdout",
     "output_type": "stream",
     "text": [
      "[1, 2, 3, 4, 5, 6, 7, 8, 9, 10, 11, 12, 13, 14, 15, 16, 17, 18, 19, 20, 21, 22, 23, 24, 25, 26, 27, 28, 29, 30, 31, 32, 33, 34, 35, 36, 37, 38, 39, 40, 41, 42, 43, 44, 45, 46, 47, 48, 49, 50, 51, 52, 53, 54, 55, 56, 57, 58, 59, 60, 61, 62, 63, 64, 65, 66, 67, 68, 69, 70, 71, 72, 73, 74, 75, 76, 77, 78, 79, 80, 81, 82, 83, 84, 85, 86, 87, 88, 89, 90, 91, 92, 93, 94, 95, 96, 97, 98, 99, 100]\n"
     ]
    }
   ],
   "source": [
    "my_number_list = list(range(1,101))\n",
    "print(my_number_list)"
   ]
  },
  {
   "cell_type": "code",
   "execution_count": 4,
   "id": "95811555-46b3-4fad-9b88-b7710cd54693",
   "metadata": {},
   "outputs": [
    {
     "name": "stdout",
     "output_type": "stream",
     "text": [
      "[1, 8, 27, 64, 125, 216, 343, 512, 729, 1000, 1331, 1728, 2197, 2744, 3375, 4096, 4913, 5832, 6859, 8000, 9261, 10648, 12167, 13824, 15625, 17576, 19683, 21952, 24389, 27000, 29791, 32768, 35937, 39304, 42875, 46656, 50653, 54872, 59319, 64000, 68921, 74088, 79507, 85184, 91125, 97336, 103823, 110592, 117649, 125000, 132651, 140608, 148877, 157464, 166375, 175616, 185193, 195112, 205379, 216000, 226981, 238328, 250047, 262144, 274625, 287496, 300763, 314432, 328509, 343000, 357911, 373248, 389017, 405224, 421875, 438976, 456533, 474552, 493039, 512000, 531441, 551368, 571787, 592704, 614125, 636056, 658503, 681472, 704969, 729000, 753571, 778688, 804357, 830584, 857375, 884736, 912673, 941192, 970299, 1000000]\n"
     ]
    }
   ],
   "source": [
    "my_comp = [element ** 3 for element in my_number_list]\n",
    "print(my_comp)"
   ]
  },
  {
   "cell_type": "markdown",
   "id": "9126f692-3728-4ca8-a93b-9b62daa7fcaa",
   "metadata": {
    "tags": []
   },
   "source": [
    "### Iterate a list of names to create a list of tuples where the tuples first value is the length of the name and the second is the name"
   ]
  },
  {
   "cell_type": "code",
   "execution_count": 5,
   "id": "9992c00b-8ff5-4dab-8d18-add64d744fb2",
   "metadata": {},
   "outputs": [
    {
     "name": "stdout",
     "output_type": "stream",
     "text": [
      "[(5, 'Peter', 2, 'Bo')]\n"
     ]
    },
    {
     "name": "stdin",
     "output_type": "stream",
     "text": [
      "Write a name ermin\n",
      "Write a name ermin2\n"
     ]
    },
    {
     "name": "stdout",
     "output_type": "stream",
     "text": [
      "[(5, 'ermin', 6, 'ermin2')]\n"
     ]
    }
   ],
   "source": [
    "my_tuple_list = [(len(\"Peter\"),\"Peter\",len(\"Bo\"),\"Bo\")]\n",
    "print(my_tuple_list)\n",
    "\n",
    "inpu1 = input(\"Write a name\")\n",
    "inpu2 = input(\"Write a name\")\n",
    "\n",
    "my_tuple_list1 = [(len(inpu1),inpu1,len(inpu2),inpu2)]\n",
    "print(my_tuple_list1)\n"
   ]
  },
  {
   "cell_type": "markdown",
   "id": "5319f9a9-52e7-4d26-952b-2e247d8db2dd",
   "metadata": {
    "tags": []
   },
   "source": [
    "### Iterate over each character in a string and get only those that are nummeric"
   ]
  },
  {
   "cell_type": "code",
   "execution_count": 6,
   "id": "2fb98823-4b85-402a-b77c-935e3e5e375c",
   "metadata": {},
   "outputs": [
    {
     "name": "stdout",
     "output_type": "stream",
     "text": [
      "Find numbers from string:  463643433\n"
     ]
    }
   ],
   "source": [
    "new_string = \"hgign4636gd43nsng433\"\n",
    "\n",
    "emp_str = \"\"\n",
    "for m in new_string:\n",
    "    if m.isdigit():\n",
    "        emp_str = emp_str + m\n",
    "print(\"Find numbers from string: \",emp_str)"
   ]
  },
  {
   "cell_type": "markdown",
   "id": "f5b59660-e864-4866-80bf-2d8e80476864",
   "metadata": {
    "tags": []
   },
   "source": [
    "### Using only a list comprehension wrapped in set() get all possible combinations from throwing 2 dice (hint use 2 for loops in a single list comprehension). Result should look like: [2,3,4,5,6,7,8,...] or a more complex/accurate solution: [(1,1),(1,2)...] in a way that (1,2) is equal to (2,1)."
   ]
  },
  {
   "cell_type": "code",
   "execution_count": 7,
   "id": "93f59928-c934-4a64-9694-5dca05c97e6d",
   "metadata": {},
   "outputs": [
    {
     "name": "stdout",
     "output_type": "stream",
     "text": [
      "{(3, 4), (4, 6), (2, 2), (1, 6), (2, 5), (1, 3), (4, 5), (3, 3), (5, 6), (3, 6), (2, 4), (1, 2), (1, 5), (3, 5), (4, 4), (5, 5), (1, 1), (1, 4), (2, 3), (2, 6), (6, 6)}\n"
     ]
    }
   ],
   "source": [
    "diceCombo = set([(dice1,dice2) for dice1 in range(1,7) for dice2 in range(1,7) if not dice1>dice2])\n",
    "print(diceCombo)"
   ]
  },
  {
   "cell_type": "markdown",
   "id": "ea23821c-6c7d-4fcd-9aff-3fa9f1032edd",
   "metadata": {
    "tags": []
   },
   "source": [
    "### Create 2 dictionary comprehensions to solve the following:\n",
    "### Iterate a list of names and create a dictionary where key is the name and value is the length of the name\n",
    "### Iterate a list of numbers and create a dictionary with {key:value} being {number:squareroot_of_number}"
   ]
  },
  {
   "cell_type": "code",
   "execution_count": 8,
   "id": "b2fdd0bd-815f-4c37-91db-aba735af5578",
   "metadata": {},
   "outputs": [
    {
     "name": "stdout",
     "output_type": "stream",
     "text": [
      "{'Bo': 2, 'Bjørne': 6, 'Peter': 5}\n"
     ]
    }
   ],
   "source": [
    "names = [\"Bo\",\"Bjørne\",\"Peter\"]\n",
    "namesDict = {name:len(name) for name in names}\n",
    "print(namesDict)"
   ]
  },
  {
   "cell_type": "code",
   "execution_count": 9,
   "id": "df7092be-b1ba-4b84-80e3-d636fe83cd7a",
   "metadata": {},
   "outputs": [
    {
     "name": "stdout",
     "output_type": "stream",
     "text": [
      "{1: 1.0, 9: 3.0, 26: 5.0990195135927845, 25: 5.0, 36: 6.0, 49: 7.0, 64: 8.0, 81: 9.0}\n"
     ]
    }
   ],
   "source": [
    "import math\n",
    "numbers = [1,9,26,25,36,49,64,81]\n",
    "numbersDict = {number:math.sqrt(number) for number in numbers}\n",
    "print(numbersDict)"
   ]
  },
  {
   "cell_type": "markdown",
   "id": "0469b705-3ed9-4108-989d-308fe431cd40",
   "metadata": {
    "tags": []
   },
   "source": [
    "### Progammatically using loops create a small program to produce a dictionary with all the 2 dice throw combinations as keys (eg: 2,3,4...etc) and their likelyhood in percent as values"
   ]
  },
  {
   "cell_type": "code",
   "execution_count": 12,
   "id": "9cf712b0-651c-401d-9131-b7f723b20985",
   "metadata": {},
   "outputs": [
    {
     "name": "stdout",
     "output_type": "stream",
     "text": [
      "{2: 2.78, 3: 5.56, 4: 8.33, 5: 11.11, 6: 13.89, 7: 16.67, 8: 13.89, 9: 11.11, 10: 8.33, 11: 5.56, 12: 2.78}\n"
     ]
    }
   ],
   "source": [
    "dices = [dice1+dice2 for dice1 in range(1,7) for dice2 in range(1,7)]\n",
    "likelyhood = {dice:round(dices.count(dice)/len(dices)*100,2) for dice in dices}\n",
    "print(likelyhood)"
   ]
  },
  {
   "cell_type": "code",
   "execution_count": null,
   "id": "1d103502-7e27-4944-9c19-3b6911d62ae2",
   "metadata": {},
   "outputs": [],
   "source": []
  }
 ],
 "metadata": {
  "kernelspec": {
   "display_name": "Python 3 (ipykernel)",
   "language": "python",
   "name": "python3"
  },
  "language_info": {
   "codemirror_mode": {
    "name": "ipython",
    "version": 3
   },
   "file_extension": ".py",
   "mimetype": "text/x-python",
   "name": "python",
   "nbconvert_exporter": "python",
   "pygments_lexer": "ipython3",
   "version": "3.10.6"
  }
 },
 "nbformat": 4,
 "nbformat_minor": 5
}
