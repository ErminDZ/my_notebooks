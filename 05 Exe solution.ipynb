{
 "cells": [
  {
   "cell_type": "markdown",
   "id": "ab794cb2-0f59-40b1-874a-5f396e8d76e8",
   "metadata": {
    "jp-MarkdownHeadingCollapsed": true,
    "tags": []
   },
   "source": [
    "## 01 Class exercise slicing dataframe\n",
    "Use this data:\n",
    "```python\n",
    "data = np.array([['','Col1','Col2','col3'],\n",
    "                ['Row1',1,2,3],\n",
    "                ['Row2',4,5,6],\n",
    "                ['Row3',7,8,9]])\n",
    "```\n",
    "1. Create a DataFrame (wrap the data above in a pandas DataFrame in a way that printing the dataframe and its index and column attributes gives this result)  \n",
    "`pd.DataFrame(data=data[1:4,1:4], columns=data[0,1:4], index=data[1:4,0])`  \n",
    "\n",
    "``` \n",
    "     Col1 Col2 col3  \n",
    "Row1    1    2    3\n",
    "Row2    4    5    6\n",
    "Row3    7    8    9\n",
    "\n",
    "Index(['Row1', 'Row2', 'Row3'], dtype='object')\n",
    "Index(['Col1', 'Col2', 'col3'], dtype='object')\n",
    "```\n",
    "\n",
    "2. Make slices of data:\n",
    "   1. second column using column name\n",
    "   2. third column using column index (.iloc[])\n",
    "   3. slice element at third row of second column (use .iloc())"
   ]
  },
  {
   "cell_type": "code",
   "execution_count": 1,
   "id": "dfc16e8a-db05-4383-aefb-f8dd80987d70",
   "metadata": {
    "tags": []
   },
   "outputs": [
    {
     "name": "stdout",
     "output_type": "stream",
     "text": [
      "1. Create a DataFrame (wrap the data above in a pandas DataFrame in a way that printing the dataframe and its index and column attributes gives this result)\n",
      "     Col1 Col2 col3\n",
      "Row1    1    2    3\n",
      "Row2    4    5    6\n",
      "Row3    7    8    9\n",
      "\n",
      "\n",
      "Index(['Row1', 'Row2', 'Row3'], dtype='object')\n",
      "Index(['Col1', 'Col2', 'col3'], dtype='object')\n"
     ]
    }
   ],
   "source": [
    "from my_modules.pandas_Ex import slicing_dataframe1\n",
    "slicing_dataframe1()"
   ]
  },
  {
   "cell_type": "code",
   "execution_count": 1,
   "id": "829f3a18-c8c1-4037-b1af-aa14112e98bc",
   "metadata": {
    "tags": []
   },
   "outputs": [
    {
     "name": "stdout",
     "output_type": "stream",
     "text": [
      "1. second column using column name\n",
      "Row1    2\n",
      "Row2    5\n",
      "Row3    8\n",
      "Name: Col2, dtype: object\n"
     ]
    }
   ],
   "source": [
    "from my_modules.pandas_Ex import slicing_dataframe2a\n",
    "slicing_dataframe2a()"
   ]
  },
  {
   "cell_type": "code",
   "execution_count": 1,
   "id": "e31ea5cb-cc36-4b99-9918-84030ac5581d",
   "metadata": {
    "tags": []
   },
   "outputs": [
    {
     "name": "stdout",
     "output_type": "stream",
     "text": [
      "2. third column using column index (.iloc[])\n",
      "Row1    3\n",
      "Row2    6\n",
      "Row3    9\n",
      "Name: col3, dtype: object\n"
     ]
    }
   ],
   "source": [
    "from my_modules.pandas_Ex import slicing_dataframe2b\n",
    "slicing_dataframe2b()"
   ]
  },
  {
   "cell_type": "code",
   "execution_count": 2,
   "id": "425f3d35-7e58-41de-b56e-12821120c209",
   "metadata": {
    "tags": []
   },
   "outputs": [
    {
     "name": "stdout",
     "output_type": "stream",
     "text": [
      "3. slice element at third row of second column (use .iloc())\n",
      "8\n"
     ]
    }
   ],
   "source": [
    "from my_modules.pandas_Ex import slicing_dataframe2c\n",
    "slicing_dataframe2c()"
   ]
  },
  {
   "cell_type": "markdown",
   "id": "3739343b-8cbe-4e3f-9984-79751cfbdedd",
   "metadata": {
    "jp-MarkdownHeadingCollapsed": true,
    "tags": []
   },
   "source": [
    "## 02 Exercise Pandas Data Series\n",
    "The CO2 Emission data set above is not updated since 2014\n",
    "1. Create a Pandas Series with emission data from 2014 for each country or region\n",
    "2. Find the 10 Countries/Regions with the highest emissions in 2014 and show emission numbers (reverse sorted)\n",
    "3. Remove if you can those rows that are not countries (regions and aggregated groups) (hint:  [ISO 3166, Alpha-3 country codes](https://www.iban.com/country-codes), a csv file can be found here: `/data/country_codes.csv`)\n",
    "    - Find the 10 countries with highest emissions in 2014\n",
    "4. Plot the emissions of China and USA over time respectively"
   ]
  },
  {
   "cell_type": "code",
   "execution_count": 1,
   "id": "d218140e-79c2-485b-ba0a-d3423dd2795b",
   "metadata": {
    "collapsed": true,
    "jupyter": {
     "outputs_hidden": true
    },
    "tags": []
   },
   "outputs": [
    {
     "name": "stdout",
     "output_type": "stream",
     "text": [
      "1. Create a Pandas Series with emission data from 2014 for each country or region\n"
     ]
    }
   ],
   "source": [
    "from my_modules.pandas_Ex import panda_data_series1\n",
    "panda_data_series1()"
   ]
  },
  {
   "cell_type": "markdown",
   "id": "a44b6a62-e44d-4bbd-ab99-a9e5d2e870f3",
   "metadata": {
    "jp-MarkdownHeadingCollapsed": true,
    "tags": []
   },
   "source": [
    "## 03 Exercise pandas dataframe\n",
    "1. Using the dataframe in the above cell find:\n",
    "    1. Mean, Min, Max values for all 4 columns\n",
    "    2. The 2 dates with the largest and smallest sum (by column)\n",
    "    3. All dates where both A's and B's are positive"
   ]
  },
  {
   "cell_type": "code",
   "execution_count": 1,
   "id": "7fcbf1ff-bbda-490a-bfa7-c695b3e3e565",
   "metadata": {
    "collapsed": true,
    "jupyter": {
     "outputs_hidden": true
    },
    "tags": []
   },
   "outputs": [
    {
     "name": "stdout",
     "output_type": "stream",
     "text": [
      "              A         B         C         D\n",
      "count  6.000000  6.000000  6.000000  6.000000\n",
      "mean  -0.332751  0.349378 -0.522690 -0.284857\n",
      "std    1.011940  0.646206  1.124756  1.692247\n",
      "min   -1.059981 -0.390446 -1.285741 -2.804349\n",
      "25%   -1.015086 -0.205789 -1.154861 -1.405659\n",
      "50%   -0.621565  0.379122 -0.808393  0.162287\n",
      "75%   -0.263994  0.932640 -0.711545  0.972215\n",
      "max    1.597667  1.012082  1.716000  1.456750\n",
      "\n",
      "\n",
      "1. Mean, Min, Max values for all 4 columns\n",
      "mean for A:  -0.33275109452514434\n",
      "min for A:  -1.0599805653107361\n",
      "max for A:  1.5976669481922885\n",
      "\n",
      "\n",
      "mean for B:  0.34937794513878423\n",
      "min for B:  -0.3904459495387004\n",
      "max for B:  1.0120820986495154\n",
      "\n",
      "\n",
      "mean for C:  -0.5226900255510725\n",
      "min for C:  -1.2857412419835756\n",
      "max for C:  1.7159999164578452\n",
      "\n",
      "\n",
      "mean for D:  -0.28485705284342955\n",
      "min for D:  -2.8043490065086822\n",
      "max for D:  1.4567500713865982\n"
     ]
    }
   ],
   "source": [
    "from my_modules.pandas_Ex import panda_dataframe1a\n",
    "panda_dataframe1a()"
   ]
  },
  {
   "cell_type": "code",
   "execution_count": 1,
   "id": "0f84071b-9c20-4735-9063-351d5fb840cd",
   "metadata": {
    "collapsed": true,
    "jupyter": {
     "outputs_hidden": true
    },
    "tags": []
   },
   "outputs": [
    {
     "name": "stdout",
     "output_type": "stream",
     "text": [
      "2. The 2 dates with the largest and smallest sum (by column)\n"
     ]
    },
    {
     "ename": "TypeError",
     "evalue": "unhashable type: 'DatetimeIndex'",
     "output_type": "error",
     "traceback": [
      "\u001b[0;31m---------------------------------------------------------------------------\u001b[0m",
      "\u001b[0;31mTypeError\u001b[0m                                 Traceback (most recent call last)",
      "Input \u001b[0;32mIn [1]\u001b[0m, in \u001b[0;36m<cell line: 2>\u001b[0;34m()\u001b[0m\n\u001b[1;32m      1\u001b[0m \u001b[38;5;28;01mfrom\u001b[39;00m \u001b[38;5;21;01mmy_modules\u001b[39;00m\u001b[38;5;21;01m.\u001b[39;00m\u001b[38;5;21;01mpandas_Ex\u001b[39;00m \u001b[38;5;28;01mimport\u001b[39;00m panda_dataframe1b\n\u001b[0;32m----> 2\u001b[0m \u001b[43mpanda_dataframe1b\u001b[49m\u001b[43m(\u001b[49m\u001b[43m)\u001b[49m\n",
      "File \u001b[0;32m~/my_notebooks/my_modules/pandas_Ex.py:130\u001b[0m, in \u001b[0;36mpanda_dataframe1b\u001b[0;34m()\u001b[0m\n\u001b[1;32m    126\u001b[0m df \u001b[38;5;241m=\u001b[39m pd\u001b[38;5;241m.\u001b[39mDataFrame(np\u001b[38;5;241m.\u001b[39mrandom\u001b[38;5;241m.\u001b[39mrandn(\u001b[38;5;241m6\u001b[39m,\u001b[38;5;241m4\u001b[39m), index\u001b[38;5;241m=\u001b[39mdates, columns\u001b[38;5;241m=\u001b[39m\u001b[38;5;28mlist\u001b[39m(\u001b[38;5;124m'\u001b[39m\u001b[38;5;124mABCD\u001b[39m\u001b[38;5;124m'\u001b[39m)) \u001b[38;5;66;03m# use np.random.randn to generate a dataframe of 6 by 4 random numbers\u001b[39;00m\n\u001b[1;32m    128\u001b[0m \u001b[38;5;28mprint\u001b[39m(\u001b[38;5;124m\"\u001b[39m\u001b[38;5;124m2. The 2 dates with the largest and smallest sum (by column)\u001b[39m\u001b[38;5;124m\"\u001b[39m)\n\u001b[0;32m--> 130\u001b[0m \u001b[38;5;28mprint\u001b[39m(\u001b[43mdf\u001b[49m\u001b[38;5;241;43m.\u001b[39;49m\u001b[43mmax\u001b[49m\u001b[43m(\u001b[49m\u001b[43mdates\u001b[49m\u001b[43m)\u001b[49m)\n",
      "File \u001b[0;32m/opt/conda/lib/python3.10/site-packages/pandas/core/generic.py:11214\u001b[0m, in \u001b[0;36mNDFrame._add_numeric_operations.<locals>.max\u001b[0;34m(self, axis, skipna, level, numeric_only, **kwargs)\u001b[0m\n\u001b[1;32m  11194\u001b[0m \u001b[38;5;129m@doc\u001b[39m(  \u001b[38;5;66;03m# type: ignore[misc]\u001b[39;00m\n\u001b[1;32m  11195\u001b[0m     _num_doc,\n\u001b[1;32m  11196\u001b[0m     desc\u001b[38;5;241m=\u001b[39m\u001b[38;5;124m\"\u001b[39m\u001b[38;5;124mReturn the maximum of the values over the requested axis.\u001b[39m\u001b[38;5;130;01m\\n\u001b[39;00m\u001b[38;5;130;01m\\n\u001b[39;00m\u001b[38;5;124m\"\u001b[39m\n\u001b[0;32m   (...)\u001b[0m\n\u001b[1;32m  11212\u001b[0m     \u001b[38;5;241m*\u001b[39m\u001b[38;5;241m*\u001b[39mkwargs,\n\u001b[1;32m  11213\u001b[0m ):\n\u001b[0;32m> 11214\u001b[0m     \u001b[38;5;28;01mreturn\u001b[39;00m \u001b[43mNDFrame\u001b[49m\u001b[38;5;241;43m.\u001b[39;49m\u001b[43mmax\u001b[49m\u001b[43m(\u001b[49m\u001b[38;5;28;43mself\u001b[39;49m\u001b[43m,\u001b[49m\u001b[43m \u001b[49m\u001b[43maxis\u001b[49m\u001b[43m,\u001b[49m\u001b[43m \u001b[49m\u001b[43mskipna\u001b[49m\u001b[43m,\u001b[49m\u001b[43m \u001b[49m\u001b[43mlevel\u001b[49m\u001b[43m,\u001b[49m\u001b[43m \u001b[49m\u001b[43mnumeric_only\u001b[49m\u001b[43m,\u001b[49m\u001b[43m \u001b[49m\u001b[38;5;241;43m*\u001b[39;49m\u001b[38;5;241;43m*\u001b[39;49m\u001b[43mkwargs\u001b[49m\u001b[43m)\u001b[49m\n",
      "File \u001b[0;32m/opt/conda/lib/python3.10/site-packages/pandas/core/generic.py:10671\u001b[0m, in \u001b[0;36mNDFrame.max\u001b[0;34m(self, axis, skipna, level, numeric_only, **kwargs)\u001b[0m\n\u001b[1;32m  10663\u001b[0m \u001b[38;5;28;01mdef\u001b[39;00m \u001b[38;5;21mmax\u001b[39m(\n\u001b[1;32m  10664\u001b[0m     \u001b[38;5;28mself\u001b[39m,\n\u001b[1;32m  10665\u001b[0m     axis: Axis \u001b[38;5;241m|\u001b[39m \u001b[38;5;28;01mNone\u001b[39;00m \u001b[38;5;241m|\u001b[39m lib\u001b[38;5;241m.\u001b[39mNoDefault \u001b[38;5;241m=\u001b[39m lib\u001b[38;5;241m.\u001b[39mno_default,\n\u001b[0;32m   (...)\u001b[0m\n\u001b[1;32m  10669\u001b[0m     \u001b[38;5;241m*\u001b[39m\u001b[38;5;241m*\u001b[39mkwargs,\n\u001b[1;32m  10670\u001b[0m ):\n\u001b[0;32m> 10671\u001b[0m     \u001b[38;5;28;01mreturn\u001b[39;00m \u001b[38;5;28;43mself\u001b[39;49m\u001b[38;5;241;43m.\u001b[39;49m\u001b[43m_stat_function\u001b[49m\u001b[43m(\u001b[49m\n\u001b[1;32m  10672\u001b[0m \u001b[43m        \u001b[49m\u001b[38;5;124;43m\"\u001b[39;49m\u001b[38;5;124;43mmax\u001b[39;49m\u001b[38;5;124;43m\"\u001b[39;49m\u001b[43m,\u001b[49m\n\u001b[1;32m  10673\u001b[0m \u001b[43m        \u001b[49m\u001b[43mnanops\u001b[49m\u001b[38;5;241;43m.\u001b[39;49m\u001b[43mnanmax\u001b[49m\u001b[43m,\u001b[49m\n\u001b[1;32m  10674\u001b[0m \u001b[43m        \u001b[49m\u001b[43maxis\u001b[49m\u001b[43m,\u001b[49m\n\u001b[1;32m  10675\u001b[0m \u001b[43m        \u001b[49m\u001b[43mskipna\u001b[49m\u001b[43m,\u001b[49m\n\u001b[1;32m  10676\u001b[0m \u001b[43m        \u001b[49m\u001b[43mlevel\u001b[49m\u001b[43m,\u001b[49m\n\u001b[1;32m  10677\u001b[0m \u001b[43m        \u001b[49m\u001b[43mnumeric_only\u001b[49m\u001b[43m,\u001b[49m\n\u001b[1;32m  10678\u001b[0m \u001b[43m        \u001b[49m\u001b[38;5;241;43m*\u001b[39;49m\u001b[38;5;241;43m*\u001b[39;49m\u001b[43mkwargs\u001b[49m\u001b[43m,\u001b[49m\n\u001b[1;32m  10679\u001b[0m \u001b[43m    \u001b[49m\u001b[43m)\u001b[49m\n",
      "File \u001b[0;32m/opt/conda/lib/python3.10/site-packages/pandas/core/generic.py:10641\u001b[0m, in \u001b[0;36mNDFrame._stat_function\u001b[0;34m(self, name, func, axis, skipna, level, numeric_only, **kwargs)\u001b[0m\n\u001b[1;32m  10631\u001b[0m     warnings\u001b[38;5;241m.\u001b[39mwarn(\n\u001b[1;32m  10632\u001b[0m         \u001b[38;5;124m\"\u001b[39m\u001b[38;5;124mUsing the level keyword in DataFrame and Series aggregations is \u001b[39m\u001b[38;5;124m\"\u001b[39m\n\u001b[1;32m  10633\u001b[0m         \u001b[38;5;124m\"\u001b[39m\u001b[38;5;124mdeprecated and will be removed in a future version. Use groupby \u001b[39m\u001b[38;5;124m\"\u001b[39m\n\u001b[0;32m   (...)\u001b[0m\n\u001b[1;32m  10636\u001b[0m         stacklevel\u001b[38;5;241m=\u001b[39mfind_stack_level(),\n\u001b[1;32m  10637\u001b[0m     )\n\u001b[1;32m  10638\u001b[0m     \u001b[38;5;28;01mreturn\u001b[39;00m \u001b[38;5;28mself\u001b[39m\u001b[38;5;241m.\u001b[39m_agg_by_level(\n\u001b[1;32m  10639\u001b[0m         name, axis\u001b[38;5;241m=\u001b[39maxis, level\u001b[38;5;241m=\u001b[39mlevel, skipna\u001b[38;5;241m=\u001b[39mskipna, numeric_only\u001b[38;5;241m=\u001b[39mnumeric_only\n\u001b[1;32m  10640\u001b[0m     )\n\u001b[0;32m> 10641\u001b[0m \u001b[38;5;28;01mreturn\u001b[39;00m \u001b[38;5;28;43mself\u001b[39;49m\u001b[38;5;241;43m.\u001b[39;49m\u001b[43m_reduce\u001b[49m\u001b[43m(\u001b[49m\n\u001b[1;32m  10642\u001b[0m \u001b[43m    \u001b[49m\u001b[43mfunc\u001b[49m\u001b[43m,\u001b[49m\u001b[43m \u001b[49m\u001b[43mname\u001b[49m\u001b[38;5;241;43m=\u001b[39;49m\u001b[43mname\u001b[49m\u001b[43m,\u001b[49m\u001b[43m \u001b[49m\u001b[43maxis\u001b[49m\u001b[38;5;241;43m=\u001b[39;49m\u001b[43maxis\u001b[49m\u001b[43m,\u001b[49m\u001b[43m \u001b[49m\u001b[43mskipna\u001b[49m\u001b[38;5;241;43m=\u001b[39;49m\u001b[43mskipna\u001b[49m\u001b[43m,\u001b[49m\u001b[43m \u001b[49m\u001b[43mnumeric_only\u001b[49m\u001b[38;5;241;43m=\u001b[39;49m\u001b[43mnumeric_only\u001b[49m\n\u001b[1;32m  10643\u001b[0m \u001b[43m\u001b[49m\u001b[43m)\u001b[49m\n",
      "File \u001b[0;32m/opt/conda/lib/python3.10/site-packages/pandas/core/frame.py:9976\u001b[0m, in \u001b[0;36mDataFrame._reduce\u001b[0;34m(self, op, name, axis, skipna, numeric_only, filter_type, **kwds)\u001b[0m\n\u001b[1;32m   9973\u001b[0m         \u001b[38;5;28mself\u001b[39m \u001b[38;5;241m=\u001b[39m \u001b[38;5;28mtype\u001b[39m(\u001b[38;5;28mself\u001b[39m)(mgr)\n\u001b[1;32m   9975\u001b[0m \u001b[38;5;66;03m# TODO: Make other agg func handle axis=None properly GH#21597\u001b[39;00m\n\u001b[0;32m-> 9976\u001b[0m axis \u001b[38;5;241m=\u001b[39m \u001b[38;5;28;43mself\u001b[39;49m\u001b[38;5;241;43m.\u001b[39;49m\u001b[43m_get_axis_number\u001b[49m\u001b[43m(\u001b[49m\u001b[43maxis\u001b[49m\u001b[43m)\u001b[49m\n\u001b[1;32m   9977\u001b[0m labels \u001b[38;5;241m=\u001b[39m \u001b[38;5;28mself\u001b[39m\u001b[38;5;241m.\u001b[39m_get_agg_axis(axis)\n\u001b[1;32m   9978\u001b[0m \u001b[38;5;28;01massert\u001b[39;00m axis \u001b[38;5;129;01min\u001b[39;00m [\u001b[38;5;241m0\u001b[39m, \u001b[38;5;241m1\u001b[39m]\n",
      "File \u001b[0;32m/opt/conda/lib/python3.10/site-packages/pandas/core/generic.py:550\u001b[0m, in \u001b[0;36mNDFrame._get_axis_number\u001b[0;34m(cls, axis)\u001b[0m\n\u001b[1;32m    546\u001b[0m \u001b[38;5;129m@final\u001b[39m\n\u001b[1;32m    547\u001b[0m \u001b[38;5;129m@classmethod\u001b[39m\n\u001b[1;32m    548\u001b[0m \u001b[38;5;28;01mdef\u001b[39;00m \u001b[38;5;21m_get_axis_number\u001b[39m(\u001b[38;5;28mcls\u001b[39m, axis: Axis) \u001b[38;5;241m-\u001b[39m\u001b[38;5;241m>\u001b[39m \u001b[38;5;28mint\u001b[39m:\n\u001b[1;32m    549\u001b[0m     \u001b[38;5;28;01mtry\u001b[39;00m:\n\u001b[0;32m--> 550\u001b[0m         \u001b[38;5;28;01mreturn\u001b[39;00m \u001b[38;5;28;43mcls\u001b[39;49m\u001b[38;5;241;43m.\u001b[39;49m\u001b[43m_AXIS_TO_AXIS_NUMBER\u001b[49m\u001b[43m[\u001b[49m\u001b[43maxis\u001b[49m\u001b[43m]\u001b[49m\n\u001b[1;32m    551\u001b[0m     \u001b[38;5;28;01mexcept\u001b[39;00m \u001b[38;5;167;01mKeyError\u001b[39;00m:\n\u001b[1;32m    552\u001b[0m         \u001b[38;5;28;01mraise\u001b[39;00m \u001b[38;5;167;01mValueError\u001b[39;00m(\u001b[38;5;124mf\u001b[39m\u001b[38;5;124m\"\u001b[39m\u001b[38;5;124mNo axis named \u001b[39m\u001b[38;5;132;01m{\u001b[39;00maxis\u001b[38;5;132;01m}\u001b[39;00m\u001b[38;5;124m for object type \u001b[39m\u001b[38;5;132;01m{\u001b[39;00m\u001b[38;5;28mcls\u001b[39m\u001b[38;5;241m.\u001b[39m\u001b[38;5;18m__name__\u001b[39m\u001b[38;5;132;01m}\u001b[39;00m\u001b[38;5;124m\"\u001b[39m)\n",
      "\u001b[0;31mTypeError\u001b[0m: unhashable type: 'DatetimeIndex'"
     ]
    }
   ],
   "source": [
    "from my_modules.pandas_Ex import panda_dataframe1b\n",
    "panda_dataframe1b()"
   ]
  },
  {
   "cell_type": "code",
   "execution_count": 3,
   "id": "4e110b98-89c6-4933-945c-c5eafc1b0fd0",
   "metadata": {
    "collapsed": true,
    "jupyter": {
     "outputs_hidden": true
    },
    "tags": []
   },
   "outputs": [
    {
     "name": "stdout",
     "output_type": "stream",
     "text": [
      "3. All dates where both A's and B's are positive\n"
     ]
    }
   ],
   "source": [
    "from my_modules.pandas_Ex import panda_dataframe1c\n",
    "panda_dataframe1c()"
   ]
  },
  {
   "cell_type": "markdown",
   "id": "937357cb-c8af-4ecb-a8c1-232fd83edb8c",
   "metadata": {
    "jp-MarkdownHeadingCollapsed": true,
    "tags": []
   },
   "source": [
    "## 04 Class Exercise\n",
    "#### Find military expenditure pr. capita.\n",
    "\n",
    "Go here and get data as csv: [worldbank military expanditure](https://databank.worldbank.org/reports.aspx?source=2&series=MS.MIL.XPND.CD&country=#). Download it manually, unzip the csv and clean up empty rows.  \n",
    "1. Use .replace() method on the dataframe to remove all data containing '..'\n",
    "2. Set index of the dataframe to be 'Country Name'\n",
    "3. Slice the 2019 column data to get a data series.\n",
    "4. Make data numeric (pd.to_numeric(data_series))\n",
    "\n",
    "1. For 2019 find the 10 countries with the highest military expenditure in USD\n",
    "2. For 2019 find the 10 countries with the highest military expenditure per capita. Find the population data here: [worldbank](https://databank.worldbank.org/source/world-development-indicators/preview/on#)(use series='Population,Total' and time='2019' and Country= countries (217)) **or** use [copy paste with this date into excel](https://www.worldometers.info/world-population/population-by-country/)\n",
    "  - (Hint: use pd.merge() to merge the mil_exp dataframe with the population dataframe on 2 columns (country_code)\n",
    "3. For 2019 find the 3 countries with the highest per capita military expenditure in the middle east\n",
    "  - [countries list with iso code](middleeast_countries.csv) or use:   \n",
    "  `list_of_middle_eastern = ['YEM','ARE','TUR','SYR','SAU','QAT','PSE','OMN','LBN','KWT','JOR','ISR','IRQ','IRN','EGY','CYP','BHR']`"
   ]
  },
  {
   "cell_type": "code",
   "execution_count": null,
   "id": "f7b00470-6e55-473a-9717-ce415feee545",
   "metadata": {},
   "outputs": [],
   "source": []
  },
  {
   "cell_type": "markdown",
   "id": "c7da0b87-86d4-45fd-bdf8-f80705fe5649",
   "metadata": {},
   "source": [
    "## Class Exercise: Read Titanic dataset and do some munging\n",
    "\n",
    "1. read titanic data from the data/titanic_train.csv file into a pandas dataframe\n",
    "2. set index of the dataframe to passenger id\n",
    "3. sort the dataframe by 'fare' (price of ticket)\n",
    "4. write a function to reformat a name to only contain \"firstname lastname\" (look for current format in the name column)\n",
    "5. use df.apply() to Change all names to the \"firstname lastname\" format\n",
    "6. Get only last name by the use of str method split() on comma. https://pandas.pydata.org/docs/user_guide/text.html#splitting-and-replacing-strings\n",
    "7. Get only those passengers that had one of these ticket numbers: `[350406,248706,382652,244373,345763,2649,239865]`\n",
    "8. Remove all rows without and age\n",
    "9. Convert age values to integer\n",
    "10. get only the children from the dataset\n",
    "11. Filter to get only passengers with a valid cabin\n",
    "12. Change Embarked to full name of port: C = Cherbourg; Q = Queenstown; S = Southampton\n",
    "13. create new column: 'relations' that adds sibling/spouse value with parent/child values\n",
    "14. Is there a relationship between how many relations and chances of survival?"
   ]
  },
  {
   "cell_type": "code",
   "execution_count": 2,
   "id": "bcf99597-87fc-4124-82ee-8c84fcb97cff",
   "metadata": {},
   "outputs": [],
   "source": [
    "from my_modules.readTitanicDataset_Ex import test\n",
    "test()"
   ]
  },
  {
   "cell_type": "markdown",
   "id": "90332ce5-b50b-4605-bfdc-3da0ce1b0248",
   "metadata": {},
   "source": [
    "### Ex1 Use data from Danmarks Statistik - Databanken\n",
    "1. Go to https://www.dst.dk/da/Statistik/brug-statistikken/muligheder-i-statistikbanken/api#testkonsol\n",
    "2. Open 'Konsol' and click 'Start Konsol'\n",
    "3. In the console at pt 1: choose 'Retrieve tables', pt 2: choose get request and json format and pt 3: execute:\n",
    "  1. check the result\n",
    "  2. in the code below this same get request is used to get information about all available data tables in 'databanken'. \n",
    "4. Change pt. 1 in the console to 'Retrieve data', pt 2: 'get request' and Table id: 'FOLK1A', format: csv, delimiter: semicolon and click: 'Variable and value codes' and choose some sub categories (Hint: hover over the codes to see their meaning). Finally execute and see what data you get.\n",
    "5. With data aggregation and data visualization answer the following questions:\n",
    "  1. What is the change in pct of divorced danes from 2008 to 2020?\n",
    "  2. Which of the 5 biggest cities has the highest percentage of 'Never Married' in 2020?\n",
    "  3. Show a bar chart of changes in marrital status in Copenhagen from 2008 till now\n",
    "  4. Show 2 plots in same figure: 'Married' and 'Never Married' for all ages in DK in 2020 (Hint: x axis is age from 0-125, y axis is how many people in the 2 categories). Add lengend to show names on graphs\n",
    "  \n",
    "## Ex2 Use another table (extra)\n",
    "Choose any of the other tables in 'databanken' to find interesting data.\n",
    "1. Collect the data\n",
    "2. Pose 5 or more interesing questions to the data\n",
    "3. Answer the questions by aggregating the data\n",
    "4. Illustrate the answers with visual plots"
   ]
  },
  {
   "cell_type": "code",
   "execution_count": 1,
   "id": "481de618-971a-4669-9eb4-2387809a601e",
   "metadata": {
    "tags": []
   },
   "outputs": [
    {
     "data": {
      "text/html": [
       "<div>\n",
       "<style scoped>\n",
       "    .dataframe tbody tr th:only-of-type {\n",
       "        vertical-align: middle;\n",
       "    }\n",
       "\n",
       "    .dataframe tbody tr th {\n",
       "        vertical-align: top;\n",
       "    }\n",
       "\n",
       "    .dataframe thead th {\n",
       "        text-align: right;\n",
       "    }\n",
       "</style>\n",
       "<table border=\"1\" class=\"dataframe\">\n",
       "  <thead>\n",
       "    <tr style=\"text-align: right;\">\n",
       "      <th></th>\n",
       "      <th>CIVILSTAND;TID;INDHOLD</th>\n",
       "    </tr>\n",
       "  </thead>\n",
       "  <tbody>\n",
       "    <tr>\n",
       "      <th>0</th>\n",
       "      <td>Fraskilt;2008K1;428864</td>\n",
       "    </tr>\n",
       "    <tr>\n",
       "      <th>1</th>\n",
       "      <td>Fraskilt;2008K2;431550</td>\n",
       "    </tr>\n",
       "    <tr>\n",
       "      <th>2</th>\n",
       "      <td>Fraskilt;2008K3;432713</td>\n",
       "    </tr>\n",
       "    <tr>\n",
       "      <th>3</th>\n",
       "      <td>Fraskilt;2008K4;432156</td>\n",
       "    </tr>\n",
       "    <tr>\n",
       "      <th>4</th>\n",
       "      <td>Fraskilt;2009K1;434233</td>\n",
       "    </tr>\n",
       "    <tr>\n",
       "      <th>5</th>\n",
       "      <td>Fraskilt;2009K2;437466</td>\n",
       "    </tr>\n",
       "    <tr>\n",
       "      <th>6</th>\n",
       "      <td>Fraskilt;2009K3;439378</td>\n",
       "    </tr>\n",
       "    <tr>\n",
       "      <th>7</th>\n",
       "      <td>Fraskilt;2009K4;439428</td>\n",
       "    </tr>\n",
       "    <tr>\n",
       "      <th>8</th>\n",
       "      <td>Fraskilt;2010K1;441913</td>\n",
       "    </tr>\n",
       "    <tr>\n",
       "      <th>9</th>\n",
       "      <td>Fraskilt;2010K2;444765</td>\n",
       "    </tr>\n",
       "    <tr>\n",
       "      <th>10</th>\n",
       "      <td>Fraskilt;2010K3;446333</td>\n",
       "    </tr>\n",
       "    <tr>\n",
       "      <th>11</th>\n",
       "      <td>Fraskilt;2010K4;447258</td>\n",
       "    </tr>\n",
       "    <tr>\n",
       "      <th>12</th>\n",
       "      <td>Fraskilt;2011K1;449609</td>\n",
       "    </tr>\n",
       "    <tr>\n",
       "      <th>13</th>\n",
       "      <td>Fraskilt;2011K2;453640</td>\n",
       "    </tr>\n",
       "    <tr>\n",
       "      <th>14</th>\n",
       "      <td>Fraskilt;2011K3;455105</td>\n",
       "    </tr>\n",
       "    <tr>\n",
       "      <th>15</th>\n",
       "      <td>Fraskilt;2011K4;455846</td>\n",
       "    </tr>\n",
       "    <tr>\n",
       "      <th>16</th>\n",
       "      <td>Fraskilt;2012K1;458430</td>\n",
       "    </tr>\n",
       "    <tr>\n",
       "      <th>17</th>\n",
       "      <td>Fraskilt;2012K2;462738</td>\n",
       "    </tr>\n",
       "    <tr>\n",
       "      <th>18</th>\n",
       "      <td>Fraskilt;2012K3;465210</td>\n",
       "    </tr>\n",
       "    <tr>\n",
       "      <th>19</th>\n",
       "      <td>Fraskilt;2012K4;466356</td>\n",
       "    </tr>\n",
       "    <tr>\n",
       "      <th>20</th>\n",
       "      <td>Fraskilt;2013K1;468891</td>\n",
       "    </tr>\n",
       "    <tr>\n",
       "      <th>21</th>\n",
       "      <td>Fraskilt;2013K2;473292</td>\n",
       "    </tr>\n",
       "    <tr>\n",
       "      <th>22</th>\n",
       "      <td>Fraskilt;2013K3;476507</td>\n",
       "    </tr>\n",
       "    <tr>\n",
       "      <th>23</th>\n",
       "      <td>Fraskilt;2013K4;477056</td>\n",
       "    </tr>\n",
       "    <tr>\n",
       "      <th>24</th>\n",
       "      <td>Fraskilt;2014K1;486336</td>\n",
       "    </tr>\n",
       "    <tr>\n",
       "      <th>25</th>\n",
       "      <td>Fraskilt;2014K2;492909</td>\n",
       "    </tr>\n",
       "    <tr>\n",
       "      <th>26</th>\n",
       "      <td>Fraskilt;2014K3;497069</td>\n",
       "    </tr>\n",
       "    <tr>\n",
       "      <th>27</th>\n",
       "      <td>Fraskilt;2014K4;500795</td>\n",
       "    </tr>\n",
       "    <tr>\n",
       "      <th>28</th>\n",
       "      <td>Fraskilt;2015K1;504505</td>\n",
       "    </tr>\n",
       "    <tr>\n",
       "      <th>29</th>\n",
       "      <td>Fraskilt;2015K2;506621</td>\n",
       "    </tr>\n",
       "    <tr>\n",
       "      <th>30</th>\n",
       "      <td>Fraskilt;2015K3;509922</td>\n",
       "    </tr>\n",
       "    <tr>\n",
       "      <th>31</th>\n",
       "      <td>Fraskilt;2015K4;513060</td>\n",
       "    </tr>\n",
       "    <tr>\n",
       "      <th>32</th>\n",
       "      <td>Fraskilt;2016K1;516864</td>\n",
       "    </tr>\n",
       "    <tr>\n",
       "      <th>33</th>\n",
       "      <td>Fraskilt;2016K2;520775</td>\n",
       "    </tr>\n",
       "    <tr>\n",
       "      <th>34</th>\n",
       "      <td>Fraskilt;2016K3;525180</td>\n",
       "    </tr>\n",
       "    <tr>\n",
       "      <th>35</th>\n",
       "      <td>Fraskilt;2016K4;526340</td>\n",
       "    </tr>\n",
       "    <tr>\n",
       "      <th>36</th>\n",
       "      <td>Fraskilt;2017K1;529457</td>\n",
       "    </tr>\n",
       "    <tr>\n",
       "      <th>37</th>\n",
       "      <td>Fraskilt;2017K2;533905</td>\n",
       "    </tr>\n",
       "    <tr>\n",
       "      <th>38</th>\n",
       "      <td>Fraskilt;2017K3;534656</td>\n",
       "    </tr>\n",
       "    <tr>\n",
       "      <th>39</th>\n",
       "      <td>Fraskilt;2017K4;535372</td>\n",
       "    </tr>\n",
       "    <tr>\n",
       "      <th>40</th>\n",
       "      <td>Fraskilt;2018K1;537834</td>\n",
       "    </tr>\n",
       "    <tr>\n",
       "      <th>41</th>\n",
       "      <td>Fraskilt;2018K2;541010</td>\n",
       "    </tr>\n",
       "    <tr>\n",
       "      <th>42</th>\n",
       "      <td>Fraskilt;2018K3;541999</td>\n",
       "    </tr>\n",
       "    <tr>\n",
       "      <th>43</th>\n",
       "      <td>Fraskilt;2018K4;542280</td>\n",
       "    </tr>\n",
       "    <tr>\n",
       "      <th>44</th>\n",
       "      <td>Fraskilt;2019K1;545085</td>\n",
       "    </tr>\n",
       "    <tr>\n",
       "      <th>45</th>\n",
       "      <td>Fraskilt;2019K2;545597</td>\n",
       "    </tr>\n",
       "    <tr>\n",
       "      <th>46</th>\n",
       "      <td>Fraskilt;2019K3;544731</td>\n",
       "    </tr>\n",
       "    <tr>\n",
       "      <th>47</th>\n",
       "      <td>Fraskilt;2019K4;543846</td>\n",
       "    </tr>\n",
       "    <tr>\n",
       "      <th>48</th>\n",
       "      <td>Fraskilt;2020K1;544588</td>\n",
       "    </tr>\n",
       "    <tr>\n",
       "      <th>49</th>\n",
       "      <td>Fraskilt;2020K2;548229</td>\n",
       "    </tr>\n",
       "    <tr>\n",
       "      <th>50</th>\n",
       "      <td>Fraskilt;2020K3;550715</td>\n",
       "    </tr>\n",
       "    <tr>\n",
       "      <th>51</th>\n",
       "      <td>Fraskilt;2020K4;552419</td>\n",
       "    </tr>\n",
       "  </tbody>\n",
       "</table>\n",
       "</div>"
      ],
      "text/plain": [
       "    CIVILSTAND;TID;INDHOLD\n",
       "0   Fraskilt;2008K1;428864\n",
       "1   Fraskilt;2008K2;431550\n",
       "2   Fraskilt;2008K3;432713\n",
       "3   Fraskilt;2008K4;432156\n",
       "4   Fraskilt;2009K1;434233\n",
       "5   Fraskilt;2009K2;437466\n",
       "6   Fraskilt;2009K3;439378\n",
       "7   Fraskilt;2009K4;439428\n",
       "8   Fraskilt;2010K1;441913\n",
       "9   Fraskilt;2010K2;444765\n",
       "10  Fraskilt;2010K3;446333\n",
       "11  Fraskilt;2010K4;447258\n",
       "12  Fraskilt;2011K1;449609\n",
       "13  Fraskilt;2011K2;453640\n",
       "14  Fraskilt;2011K3;455105\n",
       "15  Fraskilt;2011K4;455846\n",
       "16  Fraskilt;2012K1;458430\n",
       "17  Fraskilt;2012K2;462738\n",
       "18  Fraskilt;2012K3;465210\n",
       "19  Fraskilt;2012K4;466356\n",
       "20  Fraskilt;2013K1;468891\n",
       "21  Fraskilt;2013K2;473292\n",
       "22  Fraskilt;2013K3;476507\n",
       "23  Fraskilt;2013K4;477056\n",
       "24  Fraskilt;2014K1;486336\n",
       "25  Fraskilt;2014K2;492909\n",
       "26  Fraskilt;2014K3;497069\n",
       "27  Fraskilt;2014K4;500795\n",
       "28  Fraskilt;2015K1;504505\n",
       "29  Fraskilt;2015K2;506621\n",
       "30  Fraskilt;2015K3;509922\n",
       "31  Fraskilt;2015K4;513060\n",
       "32  Fraskilt;2016K1;516864\n",
       "33  Fraskilt;2016K2;520775\n",
       "34  Fraskilt;2016K3;525180\n",
       "35  Fraskilt;2016K4;526340\n",
       "36  Fraskilt;2017K1;529457\n",
       "37  Fraskilt;2017K2;533905\n",
       "38  Fraskilt;2017K3;534656\n",
       "39  Fraskilt;2017K4;535372\n",
       "40  Fraskilt;2018K1;537834\n",
       "41  Fraskilt;2018K2;541010\n",
       "42  Fraskilt;2018K3;541999\n",
       "43  Fraskilt;2018K4;542280\n",
       "44  Fraskilt;2019K1;545085\n",
       "45  Fraskilt;2019K2;545597\n",
       "46  Fraskilt;2019K3;544731\n",
       "47  Fraskilt;2019K4;543846\n",
       "48  Fraskilt;2020K1;544588\n",
       "49  Fraskilt;2020K2;548229\n",
       "50  Fraskilt;2020K3;550715\n",
       "51  Fraskilt;2020K4;552419"
      ]
     },
     "execution_count": 1,
     "metadata": {},
     "output_type": "execute_result"
    }
   ],
   "source": [
    "import pandas as pd \n",
    "url = 'https://api.statbank.dk/v1/data/FOLK1A/CSV?delimiter=Semicolon&CIVILSTAND=F&Tid=%3E%3D2008K1%3C%3D2020K4'\n",
    "dst = pd.read_csv(url)\n",
    "dst.to_csv('dk-stat-all-tables.csv', encoding='utf-8', index=False)\n",
    "\n",
    "dst[:]"
   ]
  },
  {
   "cell_type": "code",
   "execution_count": 2,
   "id": "503aa3ec-d03f-480a-9185-948ab20c4d85",
   "metadata": {
    "tags": []
   },
   "outputs": [
    {
     "name": "stdout",
     "output_type": "stream",
     "text": [
      " 28.809832487688404\n"
     ]
    }
   ],
   "source": [
    "current = 552419\n",
    "previous = 428864\n",
    "Iprocent = (abs(current - previous) / previous) * 100.0\n",
    "\n",
    "print('',Iprocent)"
   ]
  },
  {
   "cell_type": "code",
   "execution_count": 6,
   "id": "8bf1be8f-75c5-4fe1-832c-0498ea70adc6",
   "metadata": {},
   "outputs": [
    {
     "data": {
      "text/html": [
       "<div>\n",
       "<style scoped>\n",
       "    .dataframe tbody tr th:only-of-type {\n",
       "        vertical-align: middle;\n",
       "    }\n",
       "\n",
       "    .dataframe tbody tr th {\n",
       "        vertical-align: top;\n",
       "    }\n",
       "\n",
       "    .dataframe thead th {\n",
       "        text-align: right;\n",
       "    }\n",
       "</style>\n",
       "<table border=\"1\" class=\"dataframe\">\n",
       "  <thead>\n",
       "    <tr style=\"text-align: right;\">\n",
       "      <th></th>\n",
       "      <th>CIVILSTAND</th>\n",
       "      <th>TID</th>\n",
       "      <th>OMRÅDE</th>\n",
       "      <th>INDHOLD</th>\n",
       "    </tr>\n",
       "  </thead>\n",
       "  <tbody>\n",
       "    <tr>\n",
       "      <th>2</th>\n",
       "      <td>Ugift</td>\n",
       "      <td>2020K1</td>\n",
       "      <td>København</td>\n",
       "      <td>412512</td>\n",
       "    </tr>\n",
       "    <tr>\n",
       "      <th>3</th>\n",
       "      <td>Ugift</td>\n",
       "      <td>2020K1</td>\n",
       "      <td>Frederiksberg</td>\n",
       "      <td>60781</td>\n",
       "    </tr>\n",
       "    <tr>\n",
       "      <th>4</th>\n",
       "      <td>Ugift</td>\n",
       "      <td>2020K1</td>\n",
       "      <td>Dragør</td>\n",
       "      <td>5844</td>\n",
       "    </tr>\n",
       "    <tr>\n",
       "      <th>5</th>\n",
       "      <td>Ugift</td>\n",
       "      <td>2020K1</td>\n",
       "      <td>Tårnby</td>\n",
       "      <td>19947</td>\n",
       "    </tr>\n",
       "    <tr>\n",
       "      <th>6</th>\n",
       "      <td>Ugift</td>\n",
       "      <td>2020K1</td>\n",
       "      <td>Albertslund</td>\n",
       "      <td>13795</td>\n",
       "    </tr>\n",
       "    <tr>\n",
       "      <th>...</th>\n",
       "      <td>...</td>\n",
       "      <td>...</td>\n",
       "      <td>...</td>\n",
       "      <td>...</td>\n",
       "    </tr>\n",
       "    <tr>\n",
       "      <th>415</th>\n",
       "      <td>Ugift</td>\n",
       "      <td>2020K4</td>\n",
       "      <td>Morsø</td>\n",
       "      <td>8721</td>\n",
       "    </tr>\n",
       "    <tr>\n",
       "      <th>416</th>\n",
       "      <td>Ugift</td>\n",
       "      <td>2020K4</td>\n",
       "      <td>Rebild</td>\n",
       "      <td>13736</td>\n",
       "    </tr>\n",
       "    <tr>\n",
       "      <th>417</th>\n",
       "      <td>Ugift</td>\n",
       "      <td>2020K4</td>\n",
       "      <td>Thisted</td>\n",
       "      <td>18597</td>\n",
       "    </tr>\n",
       "    <tr>\n",
       "      <th>418</th>\n",
       "      <td>Ugift</td>\n",
       "      <td>2020K4</td>\n",
       "      <td>Vesthimmerlands</td>\n",
       "      <td>15965</td>\n",
       "    </tr>\n",
       "    <tr>\n",
       "      <th>419</th>\n",
       "      <td>Ugift</td>\n",
       "      <td>2020K4</td>\n",
       "      <td>Aalborg</td>\n",
       "      <td>120226</td>\n",
       "    </tr>\n",
       "  </tbody>\n",
       "</table>\n",
       "<p>418 rows × 4 columns</p>\n",
       "</div>"
      ],
      "text/plain": [
       "    CIVILSTAND     TID           OMRÅDE  INDHOLD\n",
       "2        Ugift  2020K1        København   412512\n",
       "3        Ugift  2020K1    Frederiksberg    60781\n",
       "4        Ugift  2020K1           Dragør     5844\n",
       "5        Ugift  2020K1           Tårnby    19947\n",
       "6        Ugift  2020K1      Albertslund    13795\n",
       "..         ...     ...              ...      ...\n",
       "415      Ugift  2020K4            Morsø     8721\n",
       "416      Ugift  2020K4           Rebild    13736\n",
       "417      Ugift  2020K4          Thisted    18597\n",
       "418      Ugift  2020K4  Vesthimmerlands    15965\n",
       "419      Ugift  2020K4          Aalborg   120226\n",
       "\n",
       "[418 rows x 4 columns]"
      ]
     },
     "execution_count": 6,
     "metadata": {},
     "output_type": "execute_result"
    }
   ],
   "source": [
    "import pandas as pd \n",
    "url = 'https://api.statbank.dk/v1/data/FOLK1A/CSV?delimiter=Semicolon&CIVILSTAND=U&Tid=%3E%3D2020K1%3C%3D2020K4&OMR%C3%85DE=*'\n",
    "dst = pd.read_csv(url, sep=';')\n",
    "dst.to_csv('dk-stat-all-tables.csv')\n",
    "dst_sorted = dst.sort_values(by='INDHOLD', ascending=False)\n",
    "dst[2:]"
   ]
  },
  {
   "cell_type": "code",
   "execution_count": 5,
   "id": "428ce8c5-73b3-47df-b0be-52fc200d6dda",
   "metadata": {
    "tags": []
   },
   "outputs": [
    {
     "data": {
      "image/png": "[encoded data removed]",
      "text/plain": [
       "<Figure size 5000x700 with 1 Axes>"
      ]
     },
     "metadata": {},
     "output_type": "display_data"
    }
   ],
   "source": [
    "import pandas as pd \n",
    "import matplotlib.pyplot as plt\n",
    "import numpy as np\n",
    "\n",
    "url = 'https://api.statbank.dk/v1/data/FOLK1A/CSV?delimiter=Semicolon&OMR%C3%85DE=101&CIVILSTAND=TOT&Tid=%3E%3D2008K1%3C%3D2022K3'\n",
    "dst = pd.read_csv(url, sep=';')\n",
    "dst.to_csv('dk-stat-all-tables.csv')\n",
    "dst\n",
    "\n",
    "årstal = dst['TID'].head(60)\n",
    "Indhold = dst['INDHOLD'].head(60)\n",
    "\n",
    "fig = plt.figure(figsize =(50, 7))\n",
    "\n",
    "plt.bar(årstal[0:60],Indhold[0:60])\n",
    "\n",
    "plt.xlabel(\"årstal\")\n",
    "plt.ylabel(\"indholdet\")\n",
    "plt.title(\"changes in marrital status in Copenhagen from 2008 till now\")\n",
    "plt.show()"
   ]
  },
  {
   "cell_type": "code",
   "execution_count": 4,
   "id": "aad083db-e610-4a8b-94b2-41eccc53c79a",
   "metadata": {},
   "outputs": [
    {
     "name": "stdout",
     "output_type": "stream",
     "text": [
      "Show 2 plots in same figure: Married and Never Married for all ages in DK in 2020 (Hint: x axis is age from 0-125, y axis is how many people in the 2 categories). Add lengend to show names on graphs\n"
     ]
    },
    {
     "data": {
      "image/png": "[encoded data removed]",
      "text/plain": [
       "<Figure size 17000x700 with 1 Axes>"
      ]
     },
     "metadata": {},
     "output_type": "display_data"
    }
   ],
   "source": [
    "import pandas as pd \n",
    "import matplotlib.pyplot as plt\n",
    "import numpy as np\n",
    "\n",
    "#url = 'https://api.statbank.dk/v1/data/FOLK1A/CSV?delimiter=Semicolon&Tid=2022K1%2C2022K2%2C2022K3&ALDER=%3E%3D0%3C%3D125&CIVILSTAND=U%2CG'\n",
    "url = 'https://api.statbank.dk/v1/data/FOLK1A/CSV?delimiter=Semicolon&Tid=2022K3&ALDER=%3E%3D0%3C%3D125&CIVILSTAND=U%2CG'\n",
    "dst = pd.read_csv(url, sep=';')\n",
    "dst.to_csv('dk-stat-all-tables.csv')\n",
    "dst\n",
    "\n",
    "print('Show 2 plots in same figure: Married and Never Married for all ages in DK in 2020 (Hint: x axis is age from 0-125, y axis is how many people in the 2 categories). Add lengend to show names on graphs')\n",
    "\n",
    "\n",
    "Married = dst['CIVILSTAND'].head(260) == 'Gift/separeret'\n",
    "NeverMarried = dst['CIVILSTAND'].head(260) == 'Ugift'\n",
    "X = dst['ALDER'].head(260)\n",
    "y = dst['INDHOLD'].head(5)\n",
    "  \n",
    "X_axis = np.arange(len(X))\n",
    "Y_axis = np.arange(len(y))\n",
    "\n",
    "fig = plt.figure(figsize =(170, 7))\n",
    "  \n",
    "plt.bar(X_axis - 0.2, Married, 0.4, label = 'Girls')\n",
    "plt.bar(X_axis + 0.2, NeverMarried, 0.4, label = 'Boys')\n",
    "  \n",
    "plt.xticks(X_axis, X)\n",
    "plt.yticks(Y_axis, y)\n",
    "plt.xlabel(\"Groups\")\n",
    "plt.ylabel(\"Number of Students\")\n",
    "plt.title(\"Number of Students in each group\")\n",
    "plt.legend()\n",
    "plt.show()\n"
   ]
  },
  {
   "cell_type": "code",
   "execution_count": null,
   "id": "e859fb54-8346-4b8e-bec1-06be78df969b",
   "metadata": {},
   "outputs": [],
   "source": []
  }
 ],
 "metadata": {
  "kernelspec": {
   "display_name": "Python 3 (ipykernel)",
   "language": "python",
   "name": "python3"
  },
  "language_info": {
   "codemirror_mode": {
    "name": "ipython",
    "version": 3
   },
   "file_extension": ".py",
   "mimetype": "text/x-python",
   "name": "python",
   "nbconvert_exporter": "python",
   "pygments_lexer": "ipython3",
   "version": "3.10.6"
  }
 },
 "nbformat": 4,
 "nbformat_minor": 5
}
